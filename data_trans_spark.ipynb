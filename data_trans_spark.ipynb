{
 "cells": [
  {
   "cell_type": "markdown",
   "metadata": {},
   "source": [
    "### Importing libraries"
   ]
  },
  {
   "cell_type": "code",
   "execution_count": 2,
   "metadata": {},
   "outputs": [],
   "source": [
    "import pyspark\n",
    "from pyspark.sql import SparkSession\n",
    "from pyspark.conf import SparkConf\n",
    "from pyspark.context import SparkContext\n",
    "from pyspark.sql import functions as F\n",
    "from pyspark.sql import types"
   ]
  },
  {
   "cell_type": "markdown",
   "metadata": {},
   "source": [
    "#### Configuration variables"
   ]
  },
  {
   "cell_type": "code",
   "execution_count": 3,
   "metadata": {},
   "outputs": [],
   "source": [
    "credentials_location = \"mage-oregon-crime/oregon-crime-e130b790c75d.json\"\n",
    "\n",
    "conf = SparkConf() \\\n",
    "    .setMaster('local[*]') \\\n",
    "    .setAppName('test') \\\n",
    "    .set(\"spark.jars\", \"lib/gcs-connector-hadoop3-2.2.5.jar\") \\\n",
    "    .set(\"spark.hadoop.google.cloud.auth.service.account.enable\", \"true\") \\\n",
    "    .set(\"spark.hadoop.google.cloud.auth.service.account.json.keyfile\", credentials_location)"
   ]
  },
  {
   "cell_type": "markdown",
   "metadata": {},
   "source": [
    "#### Creating the context with the credentials"
   ]
  },
  {
   "cell_type": "code",
   "execution_count": 4,
   "metadata": {},
   "outputs": [
    {
     "name": "stderr",
     "output_type": "stream",
     "text": [
      "your 131072x1 screen size is bogus. expect trouble\n",
      "24/04/13 15:51:15 WARN Utils: Your hostname, dashel resolves to a loopback address: 127.0.1.1; using 172.31.179.36 instead (on interface eth0)\n",
      "24/04/13 15:51:15 WARN Utils: Set SPARK_LOCAL_IP if you need to bind to another address\n",
      "24/04/13 15:51:16 WARN NativeCodeLoader: Unable to load native-hadoop library for your platform... using builtin-java classes where applicable\n",
      "Setting default log level to \"WARN\".\n",
      "To adjust logging level use sc.setLogLevel(newLevel). For SparkR, use setLogLevel(newLevel).\n"
     ]
    }
   ],
   "source": [
    "sc = SparkContext(conf=conf)\n",
    "\n",
    "hadoop_conf = sc._jsc.hadoopConfiguration()\n",
    "\n",
    "hadoop_conf.set(\"fs.AbstractFileSystem.gs.impl\",  \"com.google.cloud.hadoop.fs.gcs.GoogleHadoopFS\")\n",
    "hadoop_conf.set(\"fs.gs.impl\", \"com.google.cloud.hadoop.fs.gcs.GoogleHadoopFileSystem\")\n",
    "hadoop_conf.set(\"fs.gs.auth.service.account.json.keyfile\", credentials_location)\n",
    "hadoop_conf.set(\"fs.gs.auth.service.account.enable\", \"true\")"
   ]
  },
  {
   "cell_type": "markdown",
   "metadata": {},
   "source": [
    "#### Creating Spark session"
   ]
  },
  {
   "cell_type": "code",
   "execution_count": 5,
   "metadata": {},
   "outputs": [],
   "source": [
    "spark = SparkSession.builder \\\n",
    "    .config(conf=sc.getConf()) \\\n",
    "    .getOrCreate()"
   ]
  },
  {
   "cell_type": "markdown",
   "metadata": {},
   "source": [
    "#### Schema for the oregon crime data. "
   ]
  },
  {
   "cell_type": "code",
   "execution_count": 6,
   "metadata": {},
   "outputs": [],
   "source": [
    "schema = types.StructType([\n",
    "    types.StructField('_c0', types.StringType(), True), \n",
    "    types.StructField('Address', types.StringType(), True), \n",
    "    types.StructField('CaseNumber', types.StringType(), True), \n",
    "    types.StructField('CrimeAgainst', types.StringType(), True), \n",
    "    types.StructField('Neighborhood', types.StringType(), True), \n",
    "    types.StructField('OccurDate', types.StringType(), True), \n",
    "    types.StructField('OccurTime', types.Type(), True), \n",
    "    types.StructField('OffenseCategory', types.StringType(), True), \n",
    "    types.StructField('OffenseType', types.StringType(), True), \n",
    "    types.StructField('OpenDataLat', types.StringType(), True), \n",
    "    types.StructField('OpenDataLon', types.StringType(), True), \n",
    "    types.StructField('ReportDate', types.TimestampType(), True), \n",
    "    types.StructField('OffenseCount', types.IntegerType(), True)\n",
    "    ])"
   ]
  },
  {
   "cell_type": "markdown",
   "metadata": {},
   "source": [
    "#### Loading data for the Uniform Crime Stats"
   ]
  },
  {
   "cell_type": "code",
   "execution_count": 7,
   "metadata": {},
   "outputs": [
    {
     "name": "stderr",
     "output_type": "stream",
     "text": [
      "                                                                                \r"
     ]
    }
   ],
   "source": [
    "df_uni_arrests = spark.read.parquet('gs://oregon-crime-bucket/uniform_data/arrests_to_2024.parquet')\n",
    "df_uni_leoka = spark.read.parquet('gs://oregon-crime-bucket/uniform_data/leoka_to_2024.parquet')\n",
    "df_uni_offenses = spark.read.parquet('gs://oregon-crime-bucket/uniform_data/offences_to_2024.parquet')\n",
    "df_uni_victims = spark.read.parquet('gs://oregon-crime-bucket/uniform_data/victims_to_2024.parquet')"
   ]
  },
  {
   "cell_type": "markdown",
   "metadata": {},
   "source": [
    "#### Loading Oregon Crime data"
   ]
  },
  {
   "cell_type": "code",
   "execution_count": 8,
   "metadata": {},
   "outputs": [],
   "source": [
    "df_crime_data = spark.read.option('header', 'true').schema(schema).csv('gs://oregon-crime-bucket/crime_data_csv/oregon_crime_2015_2023.csv')"
   ]
  },
  {
   "cell_type": "markdown",
   "metadata": {},
   "source": [
    "#### Dropping first column that are Indexees comming from the csv file"
   ]
  },
  {
   "cell_type": "code",
   "execution_count": 9,
   "metadata": {},
   "outputs": [],
   "source": [
    "df_crime_data = df_crime_data.drop('_c0')"
   ]
  },
  {
   "cell_type": "code",
   "execution_count": 10,
   "metadata": {},
   "outputs": [
    {
     "name": "stdout",
     "output_type": "stream",
     "text": [
      "+-------+-----------+------------+---------------+----------+---------+--------------------+--------------------+-----------+-----------+-------------------+------------+\n",
      "|Address| CaseNumber|CrimeAgainst|   Neighborhood| OccurDate|OccurTime|     OffenseCategory|         OffenseType|OpenDataLat|OpenDataLon|         ReportDate|OffenseCount|\n",
      "+-------+-----------+------------+---------------+----------+---------+--------------------+--------------------+-----------+-----------+-------------------+------------+\n",
      "|   NULL| 15-X197430|      Person|       Piedmont|2015-05-12| 14:00:00|    Assault Offenses|        Intimidation|       NULL|       NULL|2015-05-12 00:00:00|           1|\n",
      "|   NULL|15-X4282999|      Person|   Buckman West|2015-05-01| 21:43:00|    Assault Offenses|      Simple Assault|       NULL|       NULL|2015-05-01 00:00:00|           1|\n",
      "|   NULL|15-X4283033|      Person|University Park|2015-05-01| 16:25:00|    Assault Offenses|      Simple Assault|       NULL|       NULL|2015-05-01 00:00:00|           1|\n",
      "|   NULL|15-X4283218|      Person|  Madison South|2015-05-01| 18:20:00|    Assault Offenses|      Simple Assault|       NULL|       NULL|2015-05-01 00:00:00|           1|\n",
      "|   NULL|15-X4283218|      Person|  Madison South|2015-05-01| 18:20:00|Kidnapping/Abduction|Kidnapping/Abduction|       NULL|       NULL|2015-05-01 00:00:00|           1|\n",
      "+-------+-----------+------------+---------------+----------+---------+--------------------+--------------------+-----------+-----------+-------------------+------------+\n",
      "only showing top 5 rows\n",
      "\n"
     ]
    }
   ],
   "source": [
    "df_crime_data.show(5)"
   ]
  },
  {
   "cell_type": "markdown",
   "metadata": {},
   "source": [
    "#### Create new column with OccurData and OccurTime"
   ]
  },
  {
   "cell_type": "code",
   "execution_count": 11,
   "metadata": {},
   "outputs": [],
   "source": [
    "df_crime_data = df_crime_data.withColumn('OccurDateTime', F.concat(df_crime_data['OccurDate'], df_crime_data['OccurTime']) )"
   ]
  },
  {
   "cell_type": "code",
   "execution_count": 12,
   "metadata": {},
   "outputs": [
    {
     "name": "stdout",
     "output_type": "stream",
     "text": [
      "root\n",
      " |-- Address: string (nullable = true)\n",
      " |-- CaseNumber: string (nullable = true)\n",
      " |-- CrimeAgainst: string (nullable = true)\n",
      " |-- Neighborhood: string (nullable = true)\n",
      " |-- OccurDate: string (nullable = true)\n",
      " |-- OccurTime: string (nullable = true)\n",
      " |-- OffenseCategory: string (nullable = true)\n",
      " |-- OffenseType: string (nullable = true)\n",
      " |-- OpenDataLat: string (nullable = true)\n",
      " |-- OpenDataLon: string (nullable = true)\n",
      " |-- ReportDate: timestamp (nullable = true)\n",
      " |-- OffenseCount: integer (nullable = true)\n",
      " |-- OccurDateTime: string (nullable = true)\n",
      "\n"
     ]
    }
   ],
   "source": [
    "df_crime_data.printSchema()"
   ]
  },
  {
   "cell_type": "code",
   "execution_count": 13,
   "metadata": {},
   "outputs": [],
   "source": [
    "df_crime_data = df_crime_data.withColumn('OccurDateTime', F.to_timestamp(\"OccurDateTime\", \"yyyy-MM-ddHH:mm:ss\"))"
   ]
  },
  {
   "cell_type": "code",
   "execution_count": 14,
   "metadata": {},
   "outputs": [],
   "source": [
    "# Drop OccurData and OccurTime columns\n",
    "df_crime_data = df_crime_data.drop('OccurDate', 'OccurTime')"
   ]
  },
  {
   "cell_type": "code",
   "execution_count": 15,
   "metadata": {},
   "outputs": [
    {
     "name": "stdout",
     "output_type": "stream",
     "text": [
      "+-------+-----------+------------+---------------+----------------+--------------+-----------+-----------+-------------------+------------+-------------------+\n",
      "|Address| CaseNumber|CrimeAgainst|   Neighborhood| OffenseCategory|   OffenseType|OpenDataLat|OpenDataLon|         ReportDate|OffenseCount|      OccurDateTime|\n",
      "+-------+-----------+------------+---------------+----------------+--------------+-----------+-----------+-------------------+------------+-------------------+\n",
      "|   NULL| 15-X197430|      Person|       Piedmont|Assault Offenses|  Intimidation|       NULL|       NULL|2015-05-12 00:00:00|           1|2015-05-12 14:00:00|\n",
      "|   NULL|15-X4282999|      Person|   Buckman West|Assault Offenses|Simple Assault|       NULL|       NULL|2015-05-01 00:00:00|           1|2015-05-01 21:43:00|\n",
      "|   NULL|15-X4283033|      Person|University Park|Assault Offenses|Simple Assault|       NULL|       NULL|2015-05-01 00:00:00|           1|2015-05-01 16:25:00|\n",
      "+-------+-----------+------------+---------------+----------------+--------------+-----------+-----------+-------------------+------------+-------------------+\n",
      "only showing top 3 rows\n",
      "\n"
     ]
    }
   ],
   "source": [
    "df_crime_data.show(3)"
   ]
  },
  {
   "cell_type": "markdown",
   "metadata": {},
   "source": [
    "### Cheking Data sets"
   ]
  },
  {
   "cell_type": "code",
   "execution_count": 16,
   "metadata": {},
   "outputs": [
    {
     "name": "stdout",
     "output_type": "stream",
     "text": [
      "root\n",
      " |-- Address: string (nullable = true)\n",
      " |-- CaseNumber: string (nullable = true)\n",
      " |-- CrimeAgainst: string (nullable = true)\n",
      " |-- Neighborhood: string (nullable = true)\n",
      " |-- OffenseCategory: string (nullable = true)\n",
      " |-- OffenseType: string (nullable = true)\n",
      " |-- OpenDataLat: string (nullable = true)\n",
      " |-- OpenDataLon: string (nullable = true)\n",
      " |-- ReportDate: timestamp (nullable = true)\n",
      " |-- OffenseCount: integer (nullable = true)\n",
      " |-- OccurDateTime: timestamp (nullable = true)\n",
      "\n"
     ]
    }
   ],
   "source": [
    "df_crime_data.printSchema()"
   ]
  },
  {
   "cell_type": "code",
   "execution_count": 17,
   "metadata": {},
   "outputs": [
    {
     "name": "stdout",
     "output_type": "stream",
     "text": [
      "+-------+-----------+------------+---------------+--------------------+--------------------+-----------+-----------+-------------------+------------+-------------------+\n",
      "|Address| CaseNumber|CrimeAgainst|   Neighborhood|     OffenseCategory|         OffenseType|OpenDataLat|OpenDataLon|         ReportDate|OffenseCount|      OccurDateTime|\n",
      "+-------+-----------+------------+---------------+--------------------+--------------------+-----------+-----------+-------------------+------------+-------------------+\n",
      "|   NULL| 15-X197430|      Person|       Piedmont|    Assault Offenses|        Intimidation|       NULL|       NULL|2015-05-12 00:00:00|           1|2015-05-12 14:00:00|\n",
      "|   NULL|15-X4282999|      Person|   Buckman West|    Assault Offenses|      Simple Assault|       NULL|       NULL|2015-05-01 00:00:00|           1|2015-05-01 21:43:00|\n",
      "|   NULL|15-X4283033|      Person|University Park|    Assault Offenses|      Simple Assault|       NULL|       NULL|2015-05-01 00:00:00|           1|2015-05-01 16:25:00|\n",
      "|   NULL|15-X4283218|      Person|  Madison South|    Assault Offenses|      Simple Assault|       NULL|       NULL|2015-05-01 00:00:00|           1|2015-05-01 18:20:00|\n",
      "|   NULL|15-X4283218|      Person|  Madison South|Kidnapping/Abduction|Kidnapping/Abduction|       NULL|       NULL|2015-05-01 00:00:00|           1|2015-05-01 18:20:00|\n",
      "+-------+-----------+------------+---------------+--------------------+--------------------+-----------+-----------+-------------------+------------+-------------------+\n",
      "only showing top 5 rows\n",
      "\n"
     ]
    }
   ],
   "source": [
    "df_crime_data.show(5)"
   ]
  },
  {
   "cell_type": "code",
   "execution_count": 18,
   "metadata": {},
   "outputs": [
    {
     "name": "stderr",
     "output_type": "stream",
     "text": [
      "[Stage 7:>                                                          (0 + 1) / 1]\r"
     ]
    },
    {
     "name": "stdout",
     "output_type": "stream",
     "text": [
      "+----------------+------------------+---------------+--------------------+----------+----------+-------------------+-----------------------+------------------+------------------------+\n",
      "|     agency_name|arrestee_age_group|arrestee_gender|       arrestee_race|    county|      date|nibrs_crime_against|nibrs_crime_description|nibrs_report_title|distinct_arrest_offenses|\n",
      "+----------------+------------------+---------------+--------------------+----------+----------+-------------------+-----------------------+------------------+------------------------+\n",
      "|Beaverton PD MIP|              0-10|           Male|Black or African ...|Washington|2021-10-14|             Person|         Simple Assault|    Simple Assault|                       1|\n",
      "|     Bend PD MIP|              0-10|         Female|             Unknown| Deschutes|2020-08-04|              Other|   Oregon Specific C...|            Part 3|                       1|\n",
      "|     Bend PD MIP|              0-10|         Female|               White| Deschutes|2023-01-20|              Other|   Oregon Specific C...|            Part 3|                       1|\n",
      "|     Bend PD MIP|              0-10|         Female|               White| Deschutes|2023-01-20|             Person|         Simple Assault|    Simple Assault|                       1|\n",
      "|     Bend PD MIP|              0-10|         Female|               White| Deschutes|2023-01-20|           Property|   Destruction/Damag...|         Vandalism|                       1|\n",
      "+----------------+------------------+---------------+--------------------+----------+----------+-------------------+-----------------------+------------------+------------------------+\n",
      "only showing top 5 rows\n",
      "\n"
     ]
    },
    {
     "name": "stderr",
     "output_type": "stream",
     "text": [
      "                                                                                \r"
     ]
    }
   ],
   "source": [
    "df_uni_arrests.show(5)"
   ]
  },
  {
   "cell_type": "code",
   "execution_count": 19,
   "metadata": {},
   "outputs": [
    {
     "name": "stdout",
     "output_type": "stream",
     "text": [
      "+--------------------+---------+------------+---------------------------+--------------------+-----------------------+------------------+----------------+-------------+-----------+------------------------+\n",
      "|         agency_name|   county|incidentdate|leoka_assignment_type_nibrs|  leoka_circumstance|nibrs_crime_description|nibrs_report_title|victim_age_group|victim_gender|victim_race|distinct_offense_victims|\n",
      "+--------------------+---------+------------+---------------------------+--------------------+-----------------------+------------------+----------------+-------------+-----------+------------------------+\n",
      "|        Clackamas SO|Clackamas|  2023-06-10|       One Man Vehicle -...|Robberies in Prog...|         Simple Assault|    Simple Assault|              20|       Female|      White|                       1|\n",
      "|      Gresham PD MIP|Multnomah|  2021-10-24|           Other - Assisted|           All Other|     Aggravated Assault|Aggravated Assault|              20|         Male|    Unknown|                       1|\n",
      "|Portland Police B...|Multnomah|  2021-04-23|            Two Man Vehicle|Attempting Other ...|     Aggravated Assault|Aggravated Assault|              20|       Female|      White|                       1|\n",
      "|          Astoria PD|  Clatsop|  2023-04-01|       One Man Vehicle -...|Attempting Other ...|     Aggravated Assault|Aggravated Assault|              21|         Male|      White|                       1|\n",
      "|          Astoria PD|  Clatsop|  2023-02-18|       One Man Vehicle -...|Traffic Pursuit a...|         Simple Assault|    Simple Assault|              21|         Male|      White|                       1|\n",
      "+--------------------+---------+------------+---------------------------+--------------------+-----------------------+------------------+----------------+-------------+-----------+------------------------+\n",
      "only showing top 5 rows\n",
      "\n"
     ]
    },
    {
     "name": "stderr",
     "output_type": "stream",
     "text": [
      "                                                                                \r"
     ]
    }
   ],
   "source": [
    "df_uni_leoka.show(5)"
   ]
  },
  {
   "cell_type": "code",
   "execution_count": 20,
   "metadata": {},
   "outputs": [
    {
     "name": "stderr",
     "output_type": "stream",
     "text": [
      "[Stage 9:>                                                          (0 + 1) / 1]\r"
     ]
    },
    {
     "name": "stdout",
     "output_type": "stream",
     "text": [
      "+-----------+------+------------+-------------------+-----------------------+------------------+----------------+-------------+-----------+----------+------------------------+\n",
      "|agency_name|county|incidentdate|nibrs_crime_against|nibrs_crime_description|nibrs_report_title|victim_age_group|victim_gender|victim_race|victimtype|distinct_offense_victims|\n",
      "+-----------+------+------------+-------------------+-----------------------+------------------+----------------+-------------+-----------+----------+------------------------+\n",
      "|  Marion SO|Marion|  2020-01-02|              Other|        OUCR Only Crime|            Part 3|            NULL|         NULL|       NULL|      NULL|                       0|\n",
      "|  Marion SO|Marion|  2020-01-03|              Other|        OUCR Only Crime|            Part 3|            NULL|         NULL|       NULL|      NULL|                       0|\n",
      "|  Marion SO|Marion|  2020-01-08|              Other|        OUCR Only Crime|            Part 3|            NULL|         NULL|       NULL|      NULL|                       0|\n",
      "|  Marion SO|Marion|  2020-01-10|              Other|        OUCR Only Crime|            Part 3|            NULL|         NULL|       NULL|      NULL|                       0|\n",
      "|  Marion SO|Marion|  2020-01-24|              Other|        OUCR Only Crime|            Part 3|            NULL|         NULL|       NULL|      NULL|                       0|\n",
      "+-----------+------+------------+-------------------+-----------------------+------------------+----------------+-------------+-----------+----------+------------------------+\n",
      "only showing top 5 rows\n",
      "\n"
     ]
    },
    {
     "name": "stderr",
     "output_type": "stream",
     "text": [
      "                                                                                \r"
     ]
    }
   ],
   "source": [
    "df_uni_victims.show(5)"
   ]
  },
  {
   "cell_type": "markdown",
   "metadata": {},
   "source": [
    "## Data transformation"
   ]
  },
  {
   "cell_type": "markdown",
   "metadata": {},
   "source": [
    "### Victims dataset"
   ]
  },
  {
   "cell_type": "code",
   "execution_count": 21,
   "metadata": {},
   "outputs": [],
   "source": [
    "# Eliminating rows where there ar no victims\n",
    "df_uni_victims = df_uni_victims.filter(df_uni_victims[\"distinct_offense_victims\"] != 0)"
   ]
  },
  {
   "cell_type": "code",
   "execution_count": 22,
   "metadata": {},
   "outputs": [
    {
     "name": "stderr",
     "output_type": "stream",
     "text": [
      "[Stage 10:>                                                         (0 + 1) / 1]\r"
     ]
    },
    {
     "name": "stdout",
     "output_type": "stream",
     "text": [
      "+-----------+------+------------+-------------------+-----------------------+------------------+----------------+-------------+--------------------+----------+------------------------+\n",
      "|agency_name|county|incidentdate|nibrs_crime_against|nibrs_crime_description|nibrs_report_title|victim_age_group|victim_gender|         victim_race|victimtype|distinct_offense_victims|\n",
      "+-----------+------+------------+-------------------+-----------------------+------------------+----------------+-------------+--------------------+----------+------------------------+\n",
      "|  Albany PD|  Linn|  2023-08-15|             Person|     Aggravated Assault|Aggravated Assault|            0-10|       Female|Black or African ...|Individual|                       1|\n",
      "|  Albany PD|  Linn|  2021-01-06|             Person|     Aggravated Assault|Aggravated Assault|            0-10|         Male|  Hispanic or Latino|Individual|                       1|\n",
      "|  Albany PD|  Linn|  2022-05-18|             Person|     Aggravated Assault|Aggravated Assault|            0-10|         Male|  Hispanic or Latino|Individual|                       1|\n",
      "|  Albany PD|  Linn|  2020-01-07|             Person|     Aggravated Assault|Aggravated Assault|            0-10|       Female|               White|Individual|                       1|\n",
      "|  Albany PD|  Linn|  2020-04-14|             Person|     Aggravated Assault|Aggravated Assault|            0-10|       Female|               White|Individual|                       1|\n",
      "+-----------+------+------------+-------------------+-----------------------+------------------+----------------+-------------+--------------------+----------+------------------------+\n",
      "only showing top 5 rows\n",
      "\n"
     ]
    },
    {
     "name": "stderr",
     "output_type": "stream",
     "text": [
      "                                                                                \r"
     ]
    }
   ],
   "source": [
    "df_uni_victims.show(5)"
   ]
  },
  {
   "cell_type": "code",
   "execution_count": 23,
   "metadata": {},
   "outputs": [
    {
     "data": {
      "text/plain": [
       "0"
      ]
     },
     "execution_count": 23,
     "metadata": {},
     "output_type": "execute_result"
    }
   ],
   "source": [
    "df_uni_victims.filter(df_uni_victims[\"distinct_offense_victims\"] == 0).count()"
   ]
  },
  {
   "cell_type": "markdown",
   "metadata": {},
   "source": [
    "- No Distinct Offense Victims with value of 0"
   ]
  },
  {
   "cell_type": "markdown",
   "metadata": {},
   "source": [
    "#### Checking for Null values"
   ]
  },
  {
   "cell_type": "code",
   "execution_count": 24,
   "metadata": {},
   "outputs": [
    {
     "name": "stderr",
     "output_type": "stream",
     "text": [
      "[Stage 13:>                                                         (0 + 1) / 1]\r"
     ]
    },
    {
     "name": "stdout",
     "output_type": "stream",
     "text": [
      "+-------------+------+\n",
      "|victim_gender| count|\n",
      "+-------------+------+\n",
      "|         NULL|    16|\n",
      "|       Female|321499|\n",
      "|      Unknown|  7977|\n",
      "|         Male|347796|\n",
      "|         Null|432735|\n",
      "+-------------+------+\n",
      "\n"
     ]
    },
    {
     "name": "stderr",
     "output_type": "stream",
     "text": [
      "                                                                                \r"
     ]
    }
   ],
   "source": [
    "df_uni_victims.groupBy('victim_gender').count().show()"
   ]
  },
  {
   "cell_type": "markdown",
   "metadata": {},
   "source": [
    "#### Cleaning Null values"
   ]
  },
  {
   "cell_type": "code",
   "execution_count": 25,
   "metadata": {},
   "outputs": [
    {
     "name": "stderr",
     "output_type": "stream",
     "text": [
      "                                                                                \r"
     ]
    },
    {
     "data": {
      "text/plain": [
       "432735"
      ]
     },
     "execution_count": 25,
     "metadata": {},
     "output_type": "execute_result"
    }
   ],
   "source": [
    "df_uni_victims.filter(df_uni_victims['victim_gender'] == 'Null').count()"
   ]
  },
  {
   "cell_type": "code",
   "execution_count": 27,
   "metadata": {},
   "outputs": [],
   "source": [
    "df_uni_victims = df_uni_victims.withColumn('victim_gender', F.when(F.col('victim_gender') == 'Null', 'Unknown').otherwise(F.col('victim_gender')))\n",
    "df_uni_victims = df_uni_victims.fillna(value='Unknown', subset=['victim_gender'])"
   ]
  },
  {
   "cell_type": "code",
   "execution_count": 28,
   "metadata": {},
   "outputs": [
    {
     "name": "stderr",
     "output_type": "stream",
     "text": [
      "[Stage 19:>                                                         (0 + 1) / 1]\r"
     ]
    },
    {
     "name": "stdout",
     "output_type": "stream",
     "text": [
      "+-----------+------+------------+-------------------+-----------------------+------------------+----------------+-------------+--------------------+----------+------------------------+\n",
      "|agency_name|county|incidentdate|nibrs_crime_against|nibrs_crime_description|nibrs_report_title|victim_age_group|victim_gender|         victim_race|victimtype|distinct_offense_victims|\n",
      "+-----------+------+------------+-------------------+-----------------------+------------------+----------------+-------------+--------------------+----------+------------------------+\n",
      "|  Albany PD|  Linn|  2023-08-15|             Person|     Aggravated Assault|Aggravated Assault|            0-10|       Female|Black or African ...|Individual|                       1|\n",
      "|  Albany PD|  Linn|  2021-01-06|             Person|     Aggravated Assault|Aggravated Assault|            0-10|         Male|  Hispanic or Latino|Individual|                       1|\n",
      "|  Albany PD|  Linn|  2022-05-18|             Person|     Aggravated Assault|Aggravated Assault|            0-10|         Male|  Hispanic or Latino|Individual|                       1|\n",
      "|  Albany PD|  Linn|  2020-01-07|             Person|     Aggravated Assault|Aggravated Assault|            0-10|       Female|               White|Individual|                       1|\n",
      "|  Albany PD|  Linn|  2020-04-14|             Person|     Aggravated Assault|Aggravated Assault|            0-10|       Female|               White|Individual|                       1|\n",
      "+-----------+------+------------+-------------------+-----------------------+------------------+----------------+-------------+--------------------+----------+------------------------+\n",
      "only showing top 5 rows\n",
      "\n"
     ]
    },
    {
     "name": "stderr",
     "output_type": "stream",
     "text": [
      "                                                                                \r"
     ]
    }
   ],
   "source": [
    "df_uni_victims.show(5)"
   ]
  },
  {
   "cell_type": "code",
   "execution_count": 29,
   "metadata": {},
   "outputs": [
    {
     "name": "stderr",
     "output_type": "stream",
     "text": [
      "[Stage 20:>                                                         (0 + 1) / 1]\r"
     ]
    },
    {
     "name": "stdout",
     "output_type": "stream",
     "text": [
      "+-------------+------+\n",
      "|victim_gender| count|\n",
      "+-------------+------+\n",
      "|       Female|321499|\n",
      "|      Unknown|440728|\n",
      "|         Male|347796|\n",
      "+-------------+------+\n",
      "\n"
     ]
    },
    {
     "name": "stderr",
     "output_type": "stream",
     "text": [
      "                                                                                \r"
     ]
    }
   ],
   "source": [
    "df_uni_victims.groupBy('victim_gender').count().show()"
   ]
  },
  {
   "cell_type": "code",
   "execution_count": 30,
   "metadata": {},
   "outputs": [
    {
     "name": "stderr",
     "output_type": "stream",
     "text": [
      "[Stage 23:>                                                         (0 + 1) / 1]\r"
     ]
    },
    {
     "name": "stdout",
     "output_type": "stream",
     "text": [
      "+-----------+------+------------+-------------------+-----------------------+------------------+----------------+-------------+-----------+----------+------------------------+\n",
      "|agency_name|county|incidentdate|nibrs_crime_against|nibrs_crime_description|nibrs_report_title|victim_age_group|victim_gender|victim_race|victimtype|distinct_offense_victims|\n",
      "+-----------+------+------------+-------------------+-----------------------+------------------+----------------+-------------+-----------+----------+------------------------+\n",
      "|          0|     0|           0|                  0|                      0|                 0|               0|            0|         16|         0|                       0|\n",
      "+-----------+------+------------+-------------------+-----------------------+------------------+----------------+-------------+-----------+----------+------------------------+\n",
      "\n"
     ]
    },
    {
     "name": "stderr",
     "output_type": "stream",
     "text": [
      "                                                                                \r"
     ]
    }
   ],
   "source": [
    "df_uni_victims.select([F.count(F.when(F.col(c).isNull(), c)).alias(c) for c in df_uni_victims.columns]).show()"
   ]
  },
  {
   "cell_type": "code",
   "execution_count": 31,
   "metadata": {},
   "outputs": [
    {
     "name": "stderr",
     "output_type": "stream",
     "text": [
      "[Stage 26:>                                                         (0 + 1) / 1]\r"
     ]
    },
    {
     "name": "stdout",
     "output_type": "stream",
     "text": [
      "+--------------------+------+\n",
      "|         victim_race| count|\n",
      "+--------------------+------+\n",
      "|American Indian/A...|  4417|\n",
      "|  Hispanic or Latino| 54629|\n",
      "|                NULL|    16|\n",
      "|Native Hawaiian/O...|  2441|\n",
      "|             Unknown| 86936|\n",
      "|               White|478980|\n",
      "|               Asian| 20115|\n",
      "|Black or African ...| 29754|\n",
      "|                Null|432735|\n",
      "+--------------------+------+\n",
      "\n"
     ]
    },
    {
     "name": "stderr",
     "output_type": "stream",
     "text": [
      "                                                                                \r"
     ]
    }
   ],
   "source": [
    "df_uni_victims.groupBy('victim_race').count().show()"
   ]
  },
  {
   "cell_type": "code",
   "execution_count": 32,
   "metadata": {},
   "outputs": [],
   "source": [
    "df_uni_victims = df_uni_victims.withColumn('victim_race', F.when(F.col('victim_race') == 'Null', 'Unknown').otherwise(F.col('victim_race')))\n",
    "df_uni_victims = df_uni_victims.fillna(value='Unknown', subset=['victim_race'])"
   ]
  },
  {
   "cell_type": "code",
   "execution_count": 33,
   "metadata": {},
   "outputs": [
    {
     "name": "stderr",
     "output_type": "stream",
     "text": [
      "[Stage 29:>                                                         (0 + 1) / 1]\r"
     ]
    },
    {
     "name": "stdout",
     "output_type": "stream",
     "text": [
      "+-----------+------+------------+-------------------+-----------------------+------------------+----------------+-------------+-----------+----------+------------------------+\n",
      "|agency_name|county|incidentdate|nibrs_crime_against|nibrs_crime_description|nibrs_report_title|victim_age_group|victim_gender|victim_race|victimtype|distinct_offense_victims|\n",
      "+-----------+------+------------+-------------------+-----------------------+------------------+----------------+-------------+-----------+----------+------------------------+\n",
      "|          0|     0|           0|                  0|                      0|                 0|               0|            0|          0|         0|                       0|\n",
      "+-----------+------+------------+-------------------+-----------------------+------------------+----------------+-------------+-----------+----------+------------------------+\n",
      "\n"
     ]
    },
    {
     "name": "stderr",
     "output_type": "stream",
     "text": [
      "                                                                                \r"
     ]
    }
   ],
   "source": [
    "df_uni_victims.select([F.count(F.when(F.col(c).isNull(), c)).alias(c) for c in df_uni_victims.columns]).show()"
   ]
  },
  {
   "cell_type": "code",
   "execution_count": 34,
   "metadata": {},
   "outputs": [
    {
     "name": "stderr",
     "output_type": "stream",
     "text": [
      "[Stage 32:>                                                         (0 + 1) / 1]\r"
     ]
    },
    {
     "name": "stdout",
     "output_type": "stream",
     "text": [
      "+--------------------+------+\n",
      "|         victim_race| count|\n",
      "+--------------------+------+\n",
      "|American Indian/A...|  4417|\n",
      "|  Hispanic or Latino| 54629|\n",
      "|Native Hawaiian/O...|  2441|\n",
      "|             Unknown|519687|\n",
      "|               White|478980|\n",
      "|               Asian| 20115|\n",
      "|Black or African ...| 29754|\n",
      "+--------------------+------+\n",
      "\n"
     ]
    },
    {
     "name": "stderr",
     "output_type": "stream",
     "text": [
      "                                                                                \r"
     ]
    }
   ],
   "source": [
    "df_uni_victims.groupBy('victim_race').count().show()"
   ]
  },
  {
   "cell_type": "markdown",
   "metadata": {},
   "source": [
    "#### Change IncidentData data type to timestamp"
   ]
  },
  {
   "cell_type": "code",
   "execution_count": 35,
   "metadata": {},
   "outputs": [],
   "source": [
    "df_uni_victims = df_uni_victims.withColumn('incidentdate', F.to_timestamp(\"incidentdate\", \"yyyy-MM-dd\"))"
   ]
  },
  {
   "cell_type": "code",
   "execution_count": 36,
   "metadata": {},
   "outputs": [
    {
     "name": "stderr",
     "output_type": "stream",
     "text": [
      "[Stage 35:>                                                         (0 + 1) / 1]\r"
     ]
    },
    {
     "name": "stdout",
     "output_type": "stream",
     "text": [
      "+-----------+------+-------------------+-------------------+-----------------------+------------------+----------------+-------------+--------------------+----------+------------------------+\n",
      "|agency_name|county|       incidentdate|nibrs_crime_against|nibrs_crime_description|nibrs_report_title|victim_age_group|victim_gender|         victim_race|victimtype|distinct_offense_victims|\n",
      "+-----------+------+-------------------+-------------------+-----------------------+------------------+----------------+-------------+--------------------+----------+------------------------+\n",
      "|  Albany PD|  Linn|2023-08-15 00:00:00|             Person|     Aggravated Assault|Aggravated Assault|            0-10|       Female|Black or African ...|Individual|                       1|\n",
      "|  Albany PD|  Linn|2021-01-06 00:00:00|             Person|     Aggravated Assault|Aggravated Assault|            0-10|         Male|  Hispanic or Latino|Individual|                       1|\n",
      "|  Albany PD|  Linn|2022-05-18 00:00:00|             Person|     Aggravated Assault|Aggravated Assault|            0-10|         Male|  Hispanic or Latino|Individual|                       1|\n",
      "+-----------+------+-------------------+-------------------+-----------------------+------------------+----------------+-------------+--------------------+----------+------------------------+\n",
      "only showing top 3 rows\n",
      "\n"
     ]
    },
    {
     "name": "stderr",
     "output_type": "stream",
     "text": [
      "                                                                                \r"
     ]
    }
   ],
   "source": [
    "df_uni_victims.show(3)"
   ]
  },
  {
   "cell_type": "markdown",
   "metadata": {},
   "source": [
    "### Arrests data null value check"
   ]
  },
  {
   "cell_type": "code",
   "execution_count": 37,
   "metadata": {},
   "outputs": [
    {
     "name": "stderr",
     "output_type": "stream",
     "text": [
      "[Stage 36:>                                                         (0 + 1) / 1]\r"
     ]
    },
    {
     "name": "stdout",
     "output_type": "stream",
     "text": [
      "+-----------+------------------+---------------+-------------+------+----+-------------------+-----------------------+------------------+------------------------+\n",
      "|agency_name|arrestee_age_group|arrestee_gender|arrestee_race|county|date|nibrs_crime_against|nibrs_crime_description|nibrs_report_title|distinct_arrest_offenses|\n",
      "+-----------+------------------+---------------+-------------+------+----+-------------------+-----------------------+------------------+------------------------+\n",
      "|          0|                 0|              0|            0|     0|   0|                  0|                      0|                 0|                       0|\n",
      "+-----------+------------------+---------------+-------------+------+----+-------------------+-----------------------+------------------+------------------------+\n",
      "\n"
     ]
    },
    {
     "name": "stderr",
     "output_type": "stream",
     "text": [
      "                                                                                \r"
     ]
    }
   ],
   "source": [
    "df_uni_arrests.select([F.count(F.when(F.col(c).isNull(), c)).alias(c) for c in df_uni_arrests.columns]).show()"
   ]
  },
  {
   "cell_type": "code",
   "execution_count": 38,
   "metadata": {},
   "outputs": [],
   "source": [
    "# Change Date column data type to timestamp\n",
    "df_uni_arrests = df_uni_arrests.withColumn('date', F.to_timestamp(\"date\", \"yyyy-MM-dd\"))"
   ]
  },
  {
   "cell_type": "code",
   "execution_count": 39,
   "metadata": {},
   "outputs": [
    {
     "name": "stderr",
     "output_type": "stream",
     "text": [
      "[Stage 39:>                                                         (0 + 1) / 1]\r"
     ]
    },
    {
     "name": "stdout",
     "output_type": "stream",
     "text": [
      "+----------------+------------------+---------------+--------------------+----------+-------------------+-------------------+-----------------------+------------------+------------------------+\n",
      "|     agency_name|arrestee_age_group|arrestee_gender|       arrestee_race|    county|               date|nibrs_crime_against|nibrs_crime_description|nibrs_report_title|distinct_arrest_offenses|\n",
      "+----------------+------------------+---------------+--------------------+----------+-------------------+-------------------+-----------------------+------------------+------------------------+\n",
      "|Beaverton PD MIP|              0-10|           Male|Black or African ...|Washington|2021-10-14 00:00:00|             Person|         Simple Assault|    Simple Assault|                       1|\n",
      "|     Bend PD MIP|              0-10|         Female|             Unknown| Deschutes|2020-08-04 00:00:00|              Other|   Oregon Specific C...|            Part 3|                       1|\n",
      "|     Bend PD MIP|              0-10|         Female|               White| Deschutes|2023-01-20 00:00:00|              Other|   Oregon Specific C...|            Part 3|                       1|\n",
      "|     Bend PD MIP|              0-10|         Female|               White| Deschutes|2023-01-20 00:00:00|             Person|         Simple Assault|    Simple Assault|                       1|\n",
      "|     Bend PD MIP|              0-10|         Female|               White| Deschutes|2023-01-20 00:00:00|           Property|   Destruction/Damag...|         Vandalism|                       1|\n",
      "+----------------+------------------+---------------+--------------------+----------+-------------------+-------------------+-----------------------+------------------+------------------------+\n",
      "only showing top 5 rows\n",
      "\n"
     ]
    },
    {
     "name": "stderr",
     "output_type": "stream",
     "text": [
      "                                                                                \r"
     ]
    }
   ],
   "source": [
    "df_uni_arrests.show(5)"
   ]
  },
  {
   "cell_type": "markdown",
   "metadata": {},
   "source": [
    "### LEOKA data null value check"
   ]
  },
  {
   "cell_type": "code",
   "execution_count": 40,
   "metadata": {},
   "outputs": [
    {
     "name": "stdout",
     "output_type": "stream",
     "text": [
      "+-----------+------+------------+---------------------------+------------------+-----------------------+------------------+----------------+-------------+-----------+------------------------+\n",
      "|agency_name|county|incidentdate|leoka_assignment_type_nibrs|leoka_circumstance|nibrs_crime_description|nibrs_report_title|victim_age_group|victim_gender|victim_race|distinct_offense_victims|\n",
      "+-----------+------+------------+---------------------------+------------------+-----------------------+------------------+----------------+-------------+-----------+------------------------+\n",
      "|          0|     0|           0|                          0|                 0|                      0|                 0|               0|           16|         16|                       0|\n",
      "+-----------+------+------------+---------------------------+------------------+-----------------------+------------------+----------------+-------------+-----------+------------------------+\n",
      "\n"
     ]
    },
    {
     "name": "stderr",
     "output_type": "stream",
     "text": [
      "                                                                                \r"
     ]
    }
   ],
   "source": [
    "df_uni_leoka.select([F.count(F.when(F.col(c).isNull(), c)).alias(c) for c in df_uni_leoka.columns]).show()"
   ]
  },
  {
   "cell_type": "code",
   "execution_count": 41,
   "metadata": {},
   "outputs": [
    {
     "name": "stdout",
     "output_type": "stream",
     "text": [
      "+-------------+--------------------+-----+\n",
      "|victim_gender|         victim_race|count|\n",
      "+-------------+--------------------+-----+\n",
      "|         Male|               White| 2323|\n",
      "|       Female|             Unknown|   27|\n",
      "|         Male|             Unknown|  307|\n",
      "|       Female|Black or African ...|   15|\n",
      "|         NULL|                NULL|   16|\n",
      "|         Male|Native Hawaiian/O...|   15|\n",
      "|       Female|               White|  373|\n",
      "|         Male|Black or African ...|   69|\n",
      "|         Male|American Indian/A...|    8|\n",
      "|      Unknown|               White|    6|\n",
      "|       Female|  Hispanic or Latino|   17|\n",
      "|         Male|               Asian|   73|\n",
      "|         Male|  Hispanic or Latino|  152|\n",
      "|      Unknown|             Unknown|   55|\n",
      "|       Female|               Asian|   13|\n",
      "+-------------+--------------------+-----+\n",
      "\n"
     ]
    },
    {
     "name": "stderr",
     "output_type": "stream",
     "text": [
      "                                                                                \r"
     ]
    }
   ],
   "source": [
    "df_uni_leoka.groupBy(['victim_gender', 'victim_race']).count().show()"
   ]
  },
  {
   "cell_type": "code",
   "execution_count": 42,
   "metadata": {},
   "outputs": [],
   "source": [
    "df_uni_leoka = df_uni_leoka.fillna(value='Unknown', subset=['victim_gender'])\n",
    "df_uni_leoka = df_uni_leoka.fillna(value='Unknown', subset=['victim_race'])"
   ]
  },
  {
   "cell_type": "code",
   "execution_count": 43,
   "metadata": {},
   "outputs": [
    {
     "name": "stderr",
     "output_type": "stream",
     "text": [
      "[Stage 46:>                                                         (0 + 1) / 1]\r"
     ]
    },
    {
     "name": "stdout",
     "output_type": "stream",
     "text": [
      "+-------------+--------------------+-----+\n",
      "|victim_gender|         victim_race|count|\n",
      "+-------------+--------------------+-----+\n",
      "|         Male|               White| 2323|\n",
      "|       Female|             Unknown|   27|\n",
      "|         Male|             Unknown|  307|\n",
      "|       Female|Black or African ...|   15|\n",
      "|         Male|Native Hawaiian/O...|   15|\n",
      "|       Female|               White|  373|\n",
      "|         Male|Black or African ...|   69|\n",
      "|         Male|American Indian/A...|    8|\n",
      "|      Unknown|               White|    6|\n",
      "|       Female|  Hispanic or Latino|   17|\n",
      "|         Male|               Asian|   73|\n",
      "|         Male|  Hispanic or Latino|  152|\n",
      "|      Unknown|             Unknown|   71|\n",
      "|       Female|               Asian|   13|\n",
      "+-------------+--------------------+-----+\n",
      "\n"
     ]
    },
    {
     "name": "stderr",
     "output_type": "stream",
     "text": [
      "                                                                                \r"
     ]
    }
   ],
   "source": [
    "df_uni_leoka.groupBy(['victim_gender', 'victim_race']).count().show()"
   ]
  },
  {
   "cell_type": "code",
   "execution_count": 44,
   "metadata": {},
   "outputs": [],
   "source": [
    "# Change IncidentDate column data type to timestamp\n",
    "df_uni_leoka = df_uni_leoka.withColumn('incidentdate', F.to_timestamp(\"incidentdate\", \"yyyy-MM-dd\"))"
   ]
  },
  {
   "cell_type": "code",
   "execution_count": 45,
   "metadata": {},
   "outputs": [
    {
     "name": "stdout",
     "output_type": "stream",
     "text": [
      "+--------------------+---------+-------------------+---------------------------+--------------------+-----------------------+------------------+----------------+-------------+-----------+------------------------+\n",
      "|         agency_name|   county|       incidentdate|leoka_assignment_type_nibrs|  leoka_circumstance|nibrs_crime_description|nibrs_report_title|victim_age_group|victim_gender|victim_race|distinct_offense_victims|\n",
      "+--------------------+---------+-------------------+---------------------------+--------------------+-----------------------+------------------+----------------+-------------+-----------+------------------------+\n",
      "|        Clackamas SO|Clackamas|2023-06-10 00:00:00|       One Man Vehicle -...|Robberies in Prog...|         Simple Assault|    Simple Assault|              20|       Female|      White|                       1|\n",
      "|      Gresham PD MIP|Multnomah|2021-10-24 00:00:00|           Other - Assisted|           All Other|     Aggravated Assault|Aggravated Assault|              20|         Male|    Unknown|                       1|\n",
      "|Portland Police B...|Multnomah|2021-04-23 00:00:00|            Two Man Vehicle|Attempting Other ...|     Aggravated Assault|Aggravated Assault|              20|       Female|      White|                       1|\n",
      "+--------------------+---------+-------------------+---------------------------+--------------------+-----------------------+------------------+----------------+-------------+-----------+------------------------+\n",
      "only showing top 3 rows\n",
      "\n"
     ]
    }
   ],
   "source": [
    "df_uni_leoka.show(3)"
   ]
  },
  {
   "cell_type": "markdown",
   "metadata": {},
   "source": [
    "### Offenses data null value check"
   ]
  },
  {
   "cell_type": "code",
   "execution_count": 46,
   "metadata": {},
   "outputs": [
    {
     "name": "stderr",
     "output_type": "stream",
     "text": [
      "[Stage 50:>                                                         (0 + 1) / 1]\r"
     ]
    },
    {
     "name": "stdout",
     "output_type": "stream",
     "text": [
      "+-----------+------+------------+-------------------+-----------------------+------------------+-----------------+\n",
      "|agency_name|county|incidentdate|nibrs_crime_against|nibrs_crime_description|nibrs_report_title|distinct_offenses|\n",
      "+-----------+------+------------+-------------------+-----------------------+------------------+-----------------+\n",
      "|          0|     0|           0|                  0|                      0|                 0|                0|\n",
      "+-----------+------+------------+-------------------+-----------------------+------------------+-----------------+\n",
      "\n"
     ]
    },
    {
     "name": "stderr",
     "output_type": "stream",
     "text": [
      "                                                                                \r"
     ]
    }
   ],
   "source": [
    "df_uni_offenses.select([F.count(F.when(F.col(c).isNull(), c)).alias(c) for c in df_uni_offenses.columns]).show()"
   ]
  },
  {
   "cell_type": "code",
   "execution_count": 47,
   "metadata": {},
   "outputs": [],
   "source": [
    "# Change IncidentData column data type to timestamp\n",
    "df_uni_offenses = df_uni_offenses.withColumn('incidentdate', F.to_timestamp(\"incidentdate\", \"yyyy-MM-dd\"))"
   ]
  },
  {
   "cell_type": "code",
   "execution_count": 48,
   "metadata": {},
   "outputs": [
    {
     "name": "stderr",
     "output_type": "stream",
     "text": [
      "[Stage 53:>                                                         (0 + 1) / 1]\r"
     ]
    },
    {
     "name": "stdout",
     "output_type": "stream",
     "text": [
      "+-----------+------+-------------------+-------------------+-----------------------+------------------+-----------------+\n",
      "|agency_name|county|       incidentdate|nibrs_crime_against|nibrs_crime_description|nibrs_report_title|distinct_offenses|\n",
      "+-----------+------+-------------------+-------------------+-----------------------+------------------+-----------------+\n",
      "|  Albany PD|  Linn|2020-01-01 00:00:00|              Other|   Oregon Specific C...|            Part 3|                1|\n",
      "|  Albany PD|  Linn|2020-01-02 00:00:00|              Other|   Oregon Specific C...|            Part 3|                5|\n",
      "|  Albany PD|  Linn|2020-01-03 00:00:00|              Other|   Oregon Specific C...|            Part 3|                1|\n",
      "|  Albany PD|  Linn|2020-01-04 00:00:00|              Other|   Oregon Specific C...|            Part 3|                3|\n",
      "|  Albany PD|  Linn|2020-01-05 00:00:00|              Other|   Oregon Specific C...|            Part 3|                5|\n",
      "+-----------+------+-------------------+-------------------+-----------------------+------------------+-----------------+\n",
      "only showing top 5 rows\n",
      "\n"
     ]
    },
    {
     "name": "stderr",
     "output_type": "stream",
     "text": [
      "                                                                                \r"
     ]
    }
   ],
   "source": [
    "df_uni_offenses.show(5)"
   ]
  },
  {
   "cell_type": "markdown",
   "metadata": {},
   "source": [
    "### Null values in the crime dataset"
   ]
  },
  {
   "cell_type": "code",
   "execution_count": 49,
   "metadata": {},
   "outputs": [
    {
     "name": "stderr",
     "output_type": "stream",
     "text": [
      "[Stage 54:==================================================>     (18 + 2) / 20]\r"
     ]
    },
    {
     "name": "stdout",
     "output_type": "stream",
     "text": [
      "+-------+----------+------------+------------+---------------+-----------+-----------+-----------+----------+------------+-------------+\n",
      "|Address|CaseNumber|CrimeAgainst|Neighborhood|OffenseCategory|OffenseType|OpenDataLat|OpenDataLon|ReportDate|OffenseCount|OccurDateTime|\n",
      "+-------+----------+------------+------------+---------------+-----------+-----------+-----------+----------+------------+-------------+\n",
      "|  44967|         0|           0|       17547|              0|          0|      56486|      56486|         0|           0|            0|\n",
      "+-------+----------+------------+------------+---------------+-----------+-----------+-----------+----------+------------+-------------+\n",
      "\n"
     ]
    },
    {
     "name": "stderr",
     "output_type": "stream",
     "text": [
      "                                                                                \r"
     ]
    }
   ],
   "source": [
    "df_crime_data.select([F.count(F.when(F.col(c).isNull(), c)).alias(c) for c in df_crime_data.columns]).show()"
   ]
  },
  {
   "cell_type": "markdown",
   "metadata": {},
   "source": [
    "- Null values in Address, Neighborhood and Lat-Lon due to privacy. We keep all data "
   ]
  },
  {
   "cell_type": "code",
   "execution_count": 50,
   "metadata": {},
   "outputs": [
    {
     "name": "stdout",
     "output_type": "stream",
     "text": [
      "root\n",
      " |-- agency_name: string (nullable = true)\n",
      " |-- county: string (nullable = true)\n",
      " |-- incidentdate: timestamp (nullable = true)\n",
      " |-- nibrs_crime_against: string (nullable = true)\n",
      " |-- nibrs_crime_description: string (nullable = true)\n",
      " |-- nibrs_report_title: string (nullable = true)\n",
      " |-- distinct_offenses: long (nullable = true)\n",
      "\n",
      "None\n",
      "root\n",
      " |-- agency_name: string (nullable = true)\n",
      " |-- county: string (nullable = true)\n",
      " |-- incidentdate: timestamp (nullable = true)\n",
      " |-- leoka_assignment_type_nibrs: string (nullable = true)\n",
      " |-- leoka_circumstance: string (nullable = true)\n",
      " |-- nibrs_crime_description: string (nullable = true)\n",
      " |-- nibrs_report_title: string (nullable = true)\n",
      " |-- victim_age_group: string (nullable = true)\n",
      " |-- victim_gender: string (nullable = false)\n",
      " |-- victim_race: string (nullable = false)\n",
      " |-- distinct_offense_victims: long (nullable = true)\n",
      "\n",
      "None\n",
      "root\n",
      " |-- agency_name: string (nullable = true)\n",
      " |-- arrestee_age_group: string (nullable = true)\n",
      " |-- arrestee_gender: string (nullable = true)\n",
      " |-- arrestee_race: string (nullable = true)\n",
      " |-- county: string (nullable = true)\n",
      " |-- date: timestamp (nullable = true)\n",
      " |-- nibrs_crime_against: string (nullable = true)\n",
      " |-- nibrs_crime_description: string (nullable = true)\n",
      " |-- nibrs_report_title: string (nullable = true)\n",
      " |-- distinct_arrest_offenses: long (nullable = true)\n",
      "\n",
      "None\n",
      "root\n",
      " |-- agency_name: string (nullable = true)\n",
      " |-- county: string (nullable = true)\n",
      " |-- incidentdate: timestamp (nullable = true)\n",
      " |-- nibrs_crime_against: string (nullable = true)\n",
      " |-- nibrs_crime_description: string (nullable = true)\n",
      " |-- nibrs_report_title: string (nullable = true)\n",
      " |-- victim_age_group: string (nullable = true)\n",
      " |-- victim_gender: string (nullable = false)\n",
      " |-- victim_race: string (nullable = false)\n",
      " |-- victimtype: string (nullable = true)\n",
      " |-- distinct_offense_victims: long (nullable = true)\n",
      "\n",
      "None\n"
     ]
    }
   ],
   "source": [
    "print(df_uni_offenses.printSchema())\n",
    "print(df_uni_leoka.printSchema())\n",
    "print(df_uni_arrests.printSchema())\n",
    "print(df_uni_victims.printSchema())"
   ]
  },
  {
   "cell_type": "markdown",
   "metadata": {},
   "source": [
    "### Upload clean data to GCS"
   ]
  },
  {
   "cell_type": "code",
   "execution_count": 51,
   "metadata": {},
   "outputs": [
    {
     "name": "stderr",
     "output_type": "stream",
     "text": [
      "                                                                                \r"
     ]
    }
   ],
   "source": [
    "# Save the data to BigQuery\n",
    "df_crime_data.coalesce(4).write.parquet('gs://oregon-crime-bucket/crime_data_parquet/', mode='overwrite')"
   ]
  },
  {
   "cell_type": "code",
   "execution_count": 52,
   "metadata": {},
   "outputs": [
    {
     "name": "stderr",
     "output_type": "stream",
     "text": [
      "                                                                                \r"
     ]
    }
   ],
   "source": [
    "df_uni_arrests.write.parquet('gs://oregon-crime-bucket/clean_uniform_data_parquet/arrets/', mode='overwrite')\n",
    "df_uni_leoka.write.parquet('gs://oregon-crime-bucket/clean_uniform_data_parquet/leoka/', mode='overwrite')\n",
    "df_uni_offenses.write.parquet('gs://oregon-crime-bucket/clean_uniform_data_parquet/offenses/', mode='overwrite')\n",
    "df_uni_victims.write.parquet('gs://oregon-crime-bucket/clean_uniform_data_parquet/victims', mode='overwrite')"
   ]
  },
  {
   "cell_type": "code",
   "execution_count": null,
   "metadata": {},
   "outputs": [],
   "source": []
  }
 ],
 "metadata": {
  "kernelspec": {
   "display_name": "de_env",
   "language": "python",
   "name": "python3"
  },
  "language_info": {
   "codemirror_mode": {
    "name": "ipython",
    "version": 3
   },
   "file_extension": ".py",
   "mimetype": "text/x-python",
   "name": "python",
   "nbconvert_exporter": "python",
   "pygments_lexer": "ipython3",
   "version": "3.12.1"
  }
 },
 "nbformat": 4,
 "nbformat_minor": 2
}
