{
 "cells": [
  {
   "cell_type": "markdown",
   "metadata": {},
   "source": [
    "### Importing libraries"
   ]
  },
  {
   "cell_type": "code",
   "execution_count": 1,
   "metadata": {},
   "outputs": [],
   "source": [
    "import pyspark\n",
    "from pyspark.sql import SparkSession\n",
    "from pyspark.conf import SparkConf\n",
    "from pyspark.context import SparkContext\n",
    "from pyspark.sql import functions as F\n",
    "from pyspark.sql import types"
   ]
  },
  {
   "cell_type": "markdown",
   "metadata": {},
   "source": [
    "#### Configuration variables"
   ]
  },
  {
   "cell_type": "code",
   "execution_count": 2,
   "metadata": {},
   "outputs": [],
   "source": [
    "credentials_location = \"mage-oregon-crime/oregon-crime-e130b790c75d.json\"\n",
    "\n",
    "conf = SparkConf() \\\n",
    "    .setMaster('local[*]') \\\n",
    "    .setAppName('test') \\\n",
    "    .set(\"spark.jars\", \"lib/gcs-connector-hadoop3-2.2.5.jar\") \\\n",
    "    .set(\"spark.hadoop.google.cloud.auth.service.account.enable\", \"true\") \\\n",
    "    .set(\"spark.hadoop.google.cloud.auth.service.account.json.keyfile\", credentials_location)"
   ]
  },
  {
   "cell_type": "markdown",
   "metadata": {},
   "source": [
    "#### Creating the context with the credentials"
   ]
  },
  {
   "cell_type": "code",
   "execution_count": 3,
   "metadata": {},
   "outputs": [
    {
     "name": "stderr",
     "output_type": "stream",
     "text": [
      "your 131072x1 screen size is bogus. expect trouble\n",
      "24/04/12 11:38:11 WARN Utils: Your hostname, dashel resolves to a loopback address: 127.0.1.1; using 172.31.179.36 instead (on interface eth0)\n",
      "24/04/12 11:38:11 WARN Utils: Set SPARK_LOCAL_IP if you need to bind to another address\n",
      "24/04/12 11:38:13 WARN NativeCodeLoader: Unable to load native-hadoop library for your platform... using builtin-java classes where applicable\n",
      "Setting default log level to \"WARN\".\n",
      "To adjust logging level use sc.setLogLevel(newLevel). For SparkR, use setLogLevel(newLevel).\n"
     ]
    }
   ],
   "source": [
    "sc = SparkContext(conf=conf)\n",
    "\n",
    "hadoop_conf = sc._jsc.hadoopConfiguration()\n",
    "\n",
    "hadoop_conf.set(\"fs.AbstractFileSystem.gs.impl\",  \"com.google.cloud.hadoop.fs.gcs.GoogleHadoopFS\")\n",
    "hadoop_conf.set(\"fs.gs.impl\", \"com.google.cloud.hadoop.fs.gcs.GoogleHadoopFileSystem\")\n",
    "hadoop_conf.set(\"fs.gs.auth.service.account.json.keyfile\", credentials_location)\n",
    "hadoop_conf.set(\"fs.gs.auth.service.account.enable\", \"true\")"
   ]
  },
  {
   "cell_type": "markdown",
   "metadata": {},
   "source": [
    "#### Creating Spark session"
   ]
  },
  {
   "cell_type": "code",
   "execution_count": 6,
   "metadata": {},
   "outputs": [],
   "source": [
    "spark = SparkSession.builder \\\n",
    "    .config(conf=sc.getConf()) \\\n",
    "    .getOrCreate()"
   ]
  },
  {
   "cell_type": "markdown",
   "metadata": {},
   "source": [
    "#### Schema for the oregon crime data. "
   ]
  },
  {
   "cell_type": "code",
   "execution_count": 4,
   "metadata": {},
   "outputs": [],
   "source": [
    "schema = types.StructType([\n",
    "    types.StructField('_c0', types.StringType(), True), \n",
    "    types.StructField('Address', types.StringType(), True), \n",
    "    types.StructField('CaseNumber', types.StringType(), True), \n",
    "    types.StructField('CrimeAgainst', types.StringType(), True), \n",
    "    types.StructField('Neighborhood', types.StringType(), True), \n",
    "    types.StructField('OccurDate', types.DateType(), True), \n",
    "    types.StructField('OccurTime', types.TimestampType(), True), \n",
    "    types.StructField('OffenseCategory', types.StringType(), True), \n",
    "    types.StructField('OffenseType', types.StringType(), True), \n",
    "    types.StructField('OpenDataLat', types.StringType(), True), \n",
    "    types.StructField('OpenDataLon', types.StringType(), True), \n",
    "    types.StructField('ReportDate', types.DateType(), True), \n",
    "    types.StructField('OffenseCount', types.IntegerType(), True)\n",
    "    ])"
   ]
  },
  {
   "cell_type": "markdown",
   "metadata": {},
   "source": [
    "#### Loading data for the Uniform Crime Stats"
   ]
  },
  {
   "cell_type": "code",
   "execution_count": 7,
   "metadata": {},
   "outputs": [
    {
     "name": "stderr",
     "output_type": "stream",
     "text": [
      "                                                                                \r"
     ]
    }
   ],
   "source": [
    "df_uni_arrests = spark.read.parquet('gs://oregon-crime-bucket/uniform_data/arrests_to_2024.parquet')\n",
    "df_uni_leoka = spark.read.parquet('gs://oregon-crime-bucket/uniform_data/leoka_to_2024.parquet')\n",
    "df_uni_offenses = spark.read.parquet('gs://oregon-crime-bucket/uniform_data/offences_to_2024.parquet')\n",
    "df_uni_victims = spark.read.parquet('gs://oregon-crime-bucket/uniform_data/victims_to_2024.parquet')"
   ]
  },
  {
   "cell_type": "markdown",
   "metadata": {},
   "source": [
    "#### Loading Oregon Crime data"
   ]
  },
  {
   "cell_type": "code",
   "execution_count": 8,
   "metadata": {},
   "outputs": [],
   "source": [
    "df_crime_data = spark.read.option('header', 'true').schema(schema).csv('gs://oregon-crime-bucket/crime_data_csv/oregon_crime_2015_2023.csv')"
   ]
  },
  {
   "cell_type": "markdown",
   "metadata": {},
   "source": [
    "#### Dropping first column that are Indexees comming from the csv file"
   ]
  },
  {
   "cell_type": "code",
   "execution_count": 9,
   "metadata": {},
   "outputs": [],
   "source": [
    "df_crime_data = df_crime_data.drop('_c0')"
   ]
  },
  {
   "cell_type": "code",
   "execution_count": 15,
   "metadata": {},
   "outputs": [
    {
     "name": "stdout",
     "output_type": "stream",
     "text": [
      "+-------+-----------+------------+---------------+----------+---------+--------------------+--------------------+-----------+-----------+----------+------------+\n",
      "|Address| CaseNumber|CrimeAgainst|   Neighborhood| OccurDate|OccurTime|     OffenseCategory|         OffenseType|OpenDataLat|OpenDataLon|ReportDate|OffenseCount|\n",
      "+-------+-----------+------------+---------------+----------+---------+--------------------+--------------------+-----------+-----------+----------+------------+\n",
      "|   NULL| 15-X197430|      Person|       Piedmont|2015-05-12| 14:00:00|    Assault Offenses|        Intimidation|       NULL|       NULL|2015-05-12|           1|\n",
      "|   NULL|15-X4282999|      Person|   Buckman West|2015-05-01| 21:43:00|    Assault Offenses|      Simple Assault|       NULL|       NULL|2015-05-01|           1|\n",
      "|   NULL|15-X4283033|      Person|University Park|2015-05-01| 16:25:00|    Assault Offenses|      Simple Assault|       NULL|       NULL|2015-05-01|           1|\n",
      "|   NULL|15-X4283218|      Person|  Madison South|2015-05-01| 18:20:00|    Assault Offenses|      Simple Assault|       NULL|       NULL|2015-05-01|           1|\n",
      "|   NULL|15-X4283218|      Person|  Madison South|2015-05-01| 18:20:00|Kidnapping/Abduction|Kidnapping/Abduction|       NULL|       NULL|2015-05-01|           1|\n",
      "+-------+-----------+------------+---------------+----------+---------+--------------------+--------------------+-----------+-----------+----------+------------+\n",
      "only showing top 5 rows\n",
      "\n"
     ]
    }
   ],
   "source": [
    "df_crime_data.show(5)"
   ]
  },
  {
   "cell_type": "markdown",
   "metadata": {},
   "source": [
    "#### Keeping only the time in the \"OccurTime\" column"
   ]
  },
  {
   "cell_type": "code",
   "execution_count": 11,
   "metadata": {},
   "outputs": [],
   "source": [
    "df_crime_data = df_crime_data.withColumn(\"OccurTime\", F.date_format(\"OccurTime\", \"HH:mm:ss\"))"
   ]
  },
  {
   "cell_type": "markdown",
   "metadata": {},
   "source": [
    "### Cheking Data sets"
   ]
  },
  {
   "cell_type": "code",
   "execution_count": 23,
   "metadata": {},
   "outputs": [
    {
     "name": "stdout",
     "output_type": "stream",
     "text": [
      "root\n",
      " |-- Agency Name: string (nullable = true)\n",
      " |-- County: string (nullable = true)\n",
      " |-- IncidentDate: date (nullable = true)\n",
      " |-- NIBRS Crime Against: string (nullable = true)\n",
      " |-- NIBRS Crime Description: string (nullable = true)\n",
      " |-- NIBRS Report Title: string (nullable = true)\n",
      " |-- Distinct Offenses: long (nullable = true)\n",
      "\n",
      "None\n",
      "root\n",
      " |-- Agency Name: string (nullable = true)\n",
      " |-- County: string (nullable = true)\n",
      " |-- IncidentDate: date (nullable = true)\n",
      " |-- LEOKA Assignment Type (NIBRS): string (nullable = true)\n",
      " |-- LEOKA Circumstance: string (nullable = true)\n",
      " |-- NIBRS Crime Description: string (nullable = true)\n",
      " |-- NIBRS Report Title: string (nullable = true)\n",
      " |-- Victim Age (group): string (nullable = true)\n",
      " |-- Victim Gender: string (nullable = true)\n",
      " |-- Victim Race: string (nullable = true)\n",
      " |-- Distinct Offense Victims: long (nullable = true)\n",
      "\n",
      "None\n",
      "root\n",
      " |-- Agency Name: string (nullable = true)\n",
      " |-- Arrestee Age (group): string (nullable = true)\n",
      " |-- Arrestee Gender: string (nullable = true)\n",
      " |-- Arrestee Race: string (nullable = true)\n",
      " |-- County: string (nullable = true)\n",
      " |-- Date: date (nullable = true)\n",
      " |-- NIBRS Crime Against: string (nullable = true)\n",
      " |-- NIBRS Crime Description: string (nullable = true)\n",
      " |-- NIBRS Report Title: string (nullable = true)\n",
      " |-- Distinct Arrest Offenses: long (nullable = true)\n",
      "\n",
      "None\n",
      "root\n",
      " |-- Agency Name: string (nullable = true)\n",
      " |-- County: string (nullable = true)\n",
      " |-- IncidentDate: date (nullable = true)\n",
      " |-- NIBRS Crime Against: string (nullable = true)\n",
      " |-- NIBRS Crime Description: string (nullable = true)\n",
      " |-- NIBRS Report Title: string (nullable = true)\n",
      " |-- Victim Age (group): string (nullable = true)\n",
      " |-- Victim Gender: string (nullable = true)\n",
      " |-- Victim Race: string (nullable = true)\n",
      " |-- VictimType: string (nullable = true)\n",
      " |-- Distinct Offense Victims: long (nullable = true)\n",
      "\n",
      "None\n"
     ]
    }
   ],
   "source": [
    "print(df_uni_offenses.printSchema())\n",
    "print(df_uni_leoka.printSchema())\n",
    "print(df_uni_arrests.printSchema())\n",
    "print(df_uni_victims.printSchema())"
   ]
  },
  {
   "cell_type": "code",
   "execution_count": 14,
   "metadata": {},
   "outputs": [
    {
     "name": "stdout",
     "output_type": "stream",
     "text": [
      "+-------+-----------+------------+---------------+----------+---------+--------------------+--------------------+-----------+-----------+----------+------------+\n",
      "|Address| CaseNumber|CrimeAgainst|   Neighborhood| OccurDate|OccurTime|     OffenseCategory|         OffenseType|OpenDataLat|OpenDataLon|ReportDate|OffenseCount|\n",
      "+-------+-----------+------------+---------------+----------+---------+--------------------+--------------------+-----------+-----------+----------+------------+\n",
      "|   NULL| 15-X197430|      Person|       Piedmont|2015-05-12| 14:00:00|    Assault Offenses|        Intimidation|       NULL|       NULL|2015-05-12|           1|\n",
      "|   NULL|15-X4282999|      Person|   Buckman West|2015-05-01| 21:43:00|    Assault Offenses|      Simple Assault|       NULL|       NULL|2015-05-01|           1|\n",
      "|   NULL|15-X4283033|      Person|University Park|2015-05-01| 16:25:00|    Assault Offenses|      Simple Assault|       NULL|       NULL|2015-05-01|           1|\n",
      "|   NULL|15-X4283218|      Person|  Madison South|2015-05-01| 18:20:00|    Assault Offenses|      Simple Assault|       NULL|       NULL|2015-05-01|           1|\n",
      "|   NULL|15-X4283218|      Person|  Madison South|2015-05-01| 18:20:00|Kidnapping/Abduction|Kidnapping/Abduction|       NULL|       NULL|2015-05-01|           1|\n",
      "+-------+-----------+------------+---------------+----------+---------+--------------------+--------------------+-----------+-----------+----------+------------+\n",
      "only showing top 5 rows\n",
      "\n"
     ]
    }
   ],
   "source": [
    "df_crime_data.show(5)"
   ]
  },
  {
   "cell_type": "code",
   "execution_count": 17,
   "metadata": {},
   "outputs": [
    {
     "name": "stderr",
     "output_type": "stream",
     "text": [
      "[Stage 8:>                                                          (0 + 1) / 1]\r"
     ]
    },
    {
     "name": "stdout",
     "output_type": "stream",
     "text": [
      "+----------------+--------------------+---------------+--------------------+----------+----------+-------------------+-----------------------+------------------+------------------------+\n",
      "|     Agency Name|Arrestee Age (group)|Arrestee Gender|       Arrestee Race|    County|      Date|NIBRS Crime Against|NIBRS Crime Description|NIBRS Report Title|Distinct Arrest Offenses|\n",
      "+----------------+--------------------+---------------+--------------------+----------+----------+-------------------+-----------------------+------------------+------------------------+\n",
      "|Beaverton PD MIP|                0-10|           Male|Black or African ...|Washington|2021-10-14|             Person|         Simple Assault|    Simple Assault|                       1|\n",
      "|     Bend PD MIP|                0-10|         Female|             Unknown| Deschutes|2020-08-04|              Other|   Oregon Specific C...|            Part 3|                       1|\n",
      "|     Bend PD MIP|                0-10|         Female|               White| Deschutes|2023-01-20|              Other|   Oregon Specific C...|            Part 3|                       1|\n",
      "|     Bend PD MIP|                0-10|         Female|               White| Deschutes|2023-01-20|             Person|         Simple Assault|    Simple Assault|                       1|\n",
      "|     Bend PD MIP|                0-10|         Female|               White| Deschutes|2023-01-20|           Property|   Destruction/Damag...|         Vandalism|                       1|\n",
      "+----------------+--------------------+---------------+--------------------+----------+----------+-------------------+-----------------------+------------------+------------------------+\n",
      "only showing top 5 rows\n",
      "\n"
     ]
    },
    {
     "name": "stderr",
     "output_type": "stream",
     "text": [
      "                                                                                \r"
     ]
    }
   ],
   "source": [
    "df_uni_arrests.show(5)"
   ]
  },
  {
   "cell_type": "code",
   "execution_count": 19,
   "metadata": {},
   "outputs": [
    {
     "name": "stderr",
     "output_type": "stream",
     "text": [
      "[Stage 9:>                                                          (0 + 1) / 1]\r"
     ]
    },
    {
     "name": "stdout",
     "output_type": "stream",
     "text": [
      "+--------------------+---------+------------+-----------------------------+--------------------+-----------------------+------------------+------------------+-------------+-----------+------------------------+\n",
      "|         Agency Name|   County|IncidentDate|LEOKA Assignment Type (NIBRS)|  LEOKA Circumstance|NIBRS Crime Description|NIBRS Report Title|Victim Age (group)|Victim Gender|Victim Race|Distinct Offense Victims|\n",
      "+--------------------+---------+------------+-----------------------------+--------------------+-----------------------+------------------+------------------+-------------+-----------+------------------------+\n",
      "|        Clackamas SO|Clackamas|  2023-06-10|         One Man Vehicle -...|Robberies in Prog...|         Simple Assault|    Simple Assault|                20|       Female|      White|                       1|\n",
      "|      Gresham PD MIP|Multnomah|  2021-10-24|             Other - Assisted|           All Other|     Aggravated Assault|Aggravated Assault|                20|         Male|    Unknown|                       1|\n",
      "|Portland Police B...|Multnomah|  2021-04-23|              Two Man Vehicle|Attempting Other ...|     Aggravated Assault|Aggravated Assault|                20|       Female|      White|                       1|\n",
      "|          Astoria PD|  Clatsop|  2023-04-01|         One Man Vehicle -...|Attempting Other ...|     Aggravated Assault|Aggravated Assault|                21|         Male|      White|                       1|\n",
      "|          Astoria PD|  Clatsop|  2023-02-18|         One Man Vehicle -...|Traffic Pursuit a...|         Simple Assault|    Simple Assault|                21|         Male|      White|                       1|\n",
      "+--------------------+---------+------------+-----------------------------+--------------------+-----------------------+------------------+------------------+-------------+-----------+------------------------+\n",
      "only showing top 5 rows\n",
      "\n"
     ]
    },
    {
     "name": "stderr",
     "output_type": "stream",
     "text": [
      "                                                                                \r"
     ]
    }
   ],
   "source": [
    "df_uni_leoka.show(5)"
   ]
  },
  {
   "cell_type": "code",
   "execution_count": 24,
   "metadata": {},
   "outputs": [
    {
     "name": "stderr",
     "output_type": "stream",
     "text": [
      "[Stage 10:>                                                         (0 + 1) / 1]\r"
     ]
    },
    {
     "name": "stdout",
     "output_type": "stream",
     "text": [
      "+-----------+------+------------+-------------------+-----------------------+------------------+------------------+-------------+-----------+----------+------------------------+\n",
      "|Agency Name|County|IncidentDate|NIBRS Crime Against|NIBRS Crime Description|NIBRS Report Title|Victim Age (group)|Victim Gender|Victim Race|VictimType|Distinct Offense Victims|\n",
      "+-----------+------+------------+-------------------+-----------------------+------------------+------------------+-------------+-----------+----------+------------------------+\n",
      "|  Marion SO|Marion|  2020-01-02|              Other|        OUCR Only Crime|            Part 3|              NULL|         NULL|       NULL|      NULL|                       0|\n",
      "|  Marion SO|Marion|  2020-01-03|              Other|        OUCR Only Crime|            Part 3|              NULL|         NULL|       NULL|      NULL|                       0|\n",
      "|  Marion SO|Marion|  2020-01-08|              Other|        OUCR Only Crime|            Part 3|              NULL|         NULL|       NULL|      NULL|                       0|\n",
      "|  Marion SO|Marion|  2020-01-10|              Other|        OUCR Only Crime|            Part 3|              NULL|         NULL|       NULL|      NULL|                       0|\n",
      "|  Marion SO|Marion|  2020-01-24|              Other|        OUCR Only Crime|            Part 3|              NULL|         NULL|       NULL|      NULL|                       0|\n",
      "+-----------+------+------------+-------------------+-----------------------+------------------+------------------+-------------+-----------+----------+------------------------+\n",
      "only showing top 5 rows\n",
      "\n"
     ]
    },
    {
     "name": "stderr",
     "output_type": "stream",
     "text": [
      "                                                                                \r"
     ]
    }
   ],
   "source": [
    "df_uni_victims.show(5)"
   ]
  },
  {
   "cell_type": "code",
   "execution_count": null,
   "metadata": {},
   "outputs": [],
   "source": []
  }
 ],
 "metadata": {
  "kernelspec": {
   "display_name": "de_env",
   "language": "python",
   "name": "python3"
  },
  "language_info": {
   "codemirror_mode": {
    "name": "ipython",
    "version": 3
   },
   "file_extension": ".py",
   "mimetype": "text/x-python",
   "name": "python",
   "nbconvert_exporter": "python",
   "pygments_lexer": "ipython3",
   "version": "3.12.1"
  }
 },
 "nbformat": 4,
 "nbformat_minor": 2
}
