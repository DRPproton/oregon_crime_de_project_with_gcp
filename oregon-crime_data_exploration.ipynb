{
 "cells": [
  {
   "cell_type": "code",
   "execution_count": 2,
   "metadata": {},
   "outputs": [],
   "source": [
    "import pandas as pd\n",
    "import datetime"
   ]
  },
  {
   "cell_type": "code",
   "execution_count": 3,
   "metadata": {},
   "outputs": [],
   "source": [
    "dtypes = {\n",
    "    'Address': pd.StringDtype(), \n",
    "    'CaseNumber': pd.StringDtype(), \n",
    "    'CrimeAgainst': pd.StringDtype(), \n",
    "    'Neighborhood': pd.StringDtype(), \n",
    "    'OccurTime': pd.StringDtype(), \n",
    "    'OffenseCategory': pd.StringDtype(), \n",
    "    'OffenseType': pd.StringDtype(), \n",
    "    'OpenDataLat': pd.Float64Dtype(),\n",
    "    'OpenDataLon': pd.Float64Dtype(), \n",
    "    'OpenDataX': pd.Float64Dtype(), \n",
    "    'OpenDataY': pd.Float64Dtype(),  \n",
    "    'OffenseCount': pd.Float64Dtype()\n",
    "}\n",
    "\n",
    "parse_dates = ['ReportDate', 'OccurDate']"
   ]
  },
  {
   "cell_type": "code",
   "execution_count": 20,
   "metadata": {},
   "outputs": [
    {
     "name": "stdout",
     "output_type": "stream",
     "text": [
      "Some data loaded\n"
     ]
    }
   ],
   "source": [
    "year = datetime.datetime.now().year\n",
    "month = datetime.datetime.now().month\n",
    "all_data = []\n",
    "previous_data_loaded = True\n",
    "\n",
    "if previous_data_loaded:\n",
    "    url = f'https://public.tableau.com/views/PPBOpenDataDownloads/CrimeData-{str(year)}.csv?:showVizHome=no'\n",
    "    df = pd.read_csv(url, dtype=dtypes, parse_dates=parse_dates)\n",
    "    all_data.append(df)\n",
    "else:\n",
    "    for year in range(2015, 2025):\n",
    "        url = f'https://public.tableau.com/views/PPBOpenDataDownloads/CrimeData-{str(year)}.csv?:showVizHome=no'\n",
    "        df = pd.read_csv(url, dtype=dtypes, parse_dates=parse_dates)\n",
    "        all_data.append(df)\n"
   ]
  },
  {
   "cell_type": "code",
   "execution_count": 5,
   "metadata": {},
   "outputs": [],
   "source": [
    "df_all = pd.read_csv('oregon-crime.csv', parse_dates=parse_dates, dtype=dtypes)"
   ]
  },
  {
   "cell_type": "code",
   "execution_count": 4,
   "metadata": {},
   "outputs": [],
   "source": [
    "df_all = pd.concat(all_data)"
   ]
  },
  {
   "cell_type": "code",
   "execution_count": 5,
   "metadata": {},
   "outputs": [],
   "source": [
    "df_all.to_csv('oregon-crime.csv', index=False)"
   ]
  },
  {
   "cell_type": "code",
   "execution_count": 6,
   "metadata": {},
   "outputs": [
    {
     "data": {
      "text/html": [
       "<div>\n",
       "<style scoped>\n",
       "    .dataframe tbody tr th:only-of-type {\n",
       "        vertical-align: middle;\n",
       "    }\n",
       "\n",
       "    .dataframe tbody tr th {\n",
       "        vertical-align: top;\n",
       "    }\n",
       "\n",
       "    .dataframe thead th {\n",
       "        text-align: right;\n",
       "    }\n",
       "</style>\n",
       "<table border=\"1\" class=\"dataframe\">\n",
       "  <thead>\n",
       "    <tr style=\"text-align: right;\">\n",
       "      <th></th>\n",
       "      <th>Address</th>\n",
       "      <th>CaseNumber</th>\n",
       "      <th>CrimeAgainst</th>\n",
       "      <th>Neighborhood</th>\n",
       "      <th>OccurDate</th>\n",
       "      <th>OccurTime</th>\n",
       "      <th>OffenseCategory</th>\n",
       "      <th>OffenseType</th>\n",
       "      <th>OpenDataLat</th>\n",
       "      <th>OpenDataLon</th>\n",
       "      <th>OpenDataX</th>\n",
       "      <th>OpenDataY</th>\n",
       "      <th>ReportDate</th>\n",
       "      <th>OffenseCount</th>\n",
       "    </tr>\n",
       "  </thead>\n",
       "  <tbody>\n",
       "    <tr>\n",
       "      <th>0</th>\n",
       "      <td>&lt;NA&gt;</td>\n",
       "      <td>15-X197430</td>\n",
       "      <td>Person</td>\n",
       "      <td>Piedmont</td>\n",
       "      <td>2015-05-12</td>\n",
       "      <td>1400</td>\n",
       "      <td>Assault Offenses</td>\n",
       "      <td>Intimidation</td>\n",
       "      <td>&lt;NA&gt;</td>\n",
       "      <td>&lt;NA&gt;</td>\n",
       "      <td>&lt;NA&gt;</td>\n",
       "      <td>&lt;NA&gt;</td>\n",
       "      <td>2015-05-12</td>\n",
       "      <td>1.0</td>\n",
       "    </tr>\n",
       "    <tr>\n",
       "      <th>1</th>\n",
       "      <td>&lt;NA&gt;</td>\n",
       "      <td>15-X4282999</td>\n",
       "      <td>Person</td>\n",
       "      <td>Buckman West</td>\n",
       "      <td>2015-05-01</td>\n",
       "      <td>2143</td>\n",
       "      <td>Assault Offenses</td>\n",
       "      <td>Simple Assault</td>\n",
       "      <td>&lt;NA&gt;</td>\n",
       "      <td>&lt;NA&gt;</td>\n",
       "      <td>&lt;NA&gt;</td>\n",
       "      <td>&lt;NA&gt;</td>\n",
       "      <td>2015-05-01</td>\n",
       "      <td>1.0</td>\n",
       "    </tr>\n",
       "    <tr>\n",
       "      <th>2</th>\n",
       "      <td>&lt;NA&gt;</td>\n",
       "      <td>15-X4283033</td>\n",
       "      <td>Person</td>\n",
       "      <td>University Park</td>\n",
       "      <td>2015-05-01</td>\n",
       "      <td>1625</td>\n",
       "      <td>Assault Offenses</td>\n",
       "      <td>Simple Assault</td>\n",
       "      <td>&lt;NA&gt;</td>\n",
       "      <td>&lt;NA&gt;</td>\n",
       "      <td>&lt;NA&gt;</td>\n",
       "      <td>&lt;NA&gt;</td>\n",
       "      <td>2015-05-01</td>\n",
       "      <td>1.0</td>\n",
       "    </tr>\n",
       "    <tr>\n",
       "      <th>3</th>\n",
       "      <td>&lt;NA&gt;</td>\n",
       "      <td>15-X4283218</td>\n",
       "      <td>Person</td>\n",
       "      <td>Madison South</td>\n",
       "      <td>2015-05-01</td>\n",
       "      <td>1820</td>\n",
       "      <td>Assault Offenses</td>\n",
       "      <td>Simple Assault</td>\n",
       "      <td>&lt;NA&gt;</td>\n",
       "      <td>&lt;NA&gt;</td>\n",
       "      <td>&lt;NA&gt;</td>\n",
       "      <td>&lt;NA&gt;</td>\n",
       "      <td>2015-05-01</td>\n",
       "      <td>1.0</td>\n",
       "    </tr>\n",
       "    <tr>\n",
       "      <th>4</th>\n",
       "      <td>&lt;NA&gt;</td>\n",
       "      <td>15-X4283218</td>\n",
       "      <td>Person</td>\n",
       "      <td>Madison South</td>\n",
       "      <td>2015-05-01</td>\n",
       "      <td>1820</td>\n",
       "      <td>Kidnapping/Abduction</td>\n",
       "      <td>Kidnapping/Abduction</td>\n",
       "      <td>&lt;NA&gt;</td>\n",
       "      <td>&lt;NA&gt;</td>\n",
       "      <td>&lt;NA&gt;</td>\n",
       "      <td>&lt;NA&gt;</td>\n",
       "      <td>2015-05-01</td>\n",
       "      <td>1.0</td>\n",
       "    </tr>\n",
       "  </tbody>\n",
       "</table>\n",
       "</div>"
      ],
      "text/plain": [
       "  Address   CaseNumber CrimeAgainst     Neighborhood  OccurDate OccurTime  \\\n",
       "0    <NA>   15-X197430       Person         Piedmont 2015-05-12      1400   \n",
       "1    <NA>  15-X4282999       Person     Buckman West 2015-05-01      2143   \n",
       "2    <NA>  15-X4283033       Person  University Park 2015-05-01      1625   \n",
       "3    <NA>  15-X4283218       Person    Madison South 2015-05-01      1820   \n",
       "4    <NA>  15-X4283218       Person    Madison South 2015-05-01      1820   \n",
       "\n",
       "        OffenseCategory           OffenseType  OpenDataLat  OpenDataLon  \\\n",
       "0      Assault Offenses          Intimidation         <NA>         <NA>   \n",
       "1      Assault Offenses        Simple Assault         <NA>         <NA>   \n",
       "2      Assault Offenses        Simple Assault         <NA>         <NA>   \n",
       "3      Assault Offenses        Simple Assault         <NA>         <NA>   \n",
       "4  Kidnapping/Abduction  Kidnapping/Abduction         <NA>         <NA>   \n",
       "\n",
       "   OpenDataX  OpenDataY ReportDate  OffenseCount  \n",
       "0       <NA>       <NA> 2015-05-12           1.0  \n",
       "1       <NA>       <NA> 2015-05-01           1.0  \n",
       "2       <NA>       <NA> 2015-05-01           1.0  \n",
       "3       <NA>       <NA> 2015-05-01           1.0  \n",
       "4       <NA>       <NA> 2015-05-01           1.0  "
      ]
     },
     "execution_count": 6,
     "metadata": {},
     "output_type": "execute_result"
    }
   ],
   "source": [
    "df_all.head(5)"
   ]
  },
  {
   "cell_type": "code",
   "execution_count": 7,
   "metadata": {},
   "outputs": [
    {
     "data": {
      "text/plain": [
       "Index(['Address', 'CaseNumber', 'CrimeAgainst', 'Neighborhood', 'OccurDate',\n",
       "       'OccurTime', 'OffenseCategory', 'OffenseType', 'OpenDataLat',\n",
       "       'OpenDataLon', 'OpenDataX', 'OpenDataY', 'ReportDate', 'OffenseCount'],\n",
       "      dtype='object')"
      ]
     },
     "execution_count": 7,
     "metadata": {},
     "output_type": "execute_result"
    }
   ],
   "source": [
    "df_all.columns"
   ]
  },
  {
   "cell_type": "code",
   "execution_count": 8,
   "metadata": {},
   "outputs": [
    {
     "name": "stdout",
     "output_type": "stream",
     "text": [
      "<class 'pandas.core.frame.DataFrame'>\n",
      "RangeIndex: 538614 entries, 0 to 538613\n",
      "Data columns (total 14 columns):\n",
      " #   Column           Non-Null Count   Dtype         \n",
      "---  ------           --------------   -----         \n",
      " 0   Address          492993 non-null  string        \n",
      " 1   CaseNumber       538614 non-null  string        \n",
      " 2   CrimeAgainst     538614 non-null  string        \n",
      " 3   Neighborhood     520801 non-null  string        \n",
      " 4   OccurDate        538614 non-null  datetime64[ns]\n",
      " 5   OccurTime        538614 non-null  string        \n",
      " 6   OffenseCategory  538614 non-null  string        \n",
      " 7   OffenseType      538614 non-null  string        \n",
      " 8   OpenDataLat      481408 non-null  Float64       \n",
      " 9   OpenDataLon      481408 non-null  Float64       \n",
      " 10  OpenDataX        481408 non-null  Float64       \n",
      " 11  OpenDataY        481408 non-null  Float64       \n",
      " 12  ReportDate       538614 non-null  datetime64[ns]\n",
      " 13  OffenseCount     538614 non-null  Float64       \n",
      "dtypes: Float64(5), datetime64[ns](2), string(7)\n",
      "memory usage: 60.1 MB\n"
     ]
    }
   ],
   "source": [
    "df_all.info()"
   ]
  },
  {
   "cell_type": "code",
   "execution_count": 18,
   "metadata": {},
   "outputs": [],
   "source": [
    "arrests = pd.read_csv('OpenData-Arrests-All.csv')\n",
    "leoka = pd.read_csv('OpenData-LEOKA-All.csv')\n",
    "offenses = pd.read_csv('OpenData-Offenses-All.csv')\n",
    "victims = pd.read_csv('OpenData-Victims-All.csv')"
   ]
  },
  {
   "cell_type": "code",
   "execution_count": 20,
   "metadata": {},
   "outputs": [
    {
     "data": {
      "text/html": [
       "<div>\n",
       "<style scoped>\n",
       "    .dataframe tbody tr th:only-of-type {\n",
       "        vertical-align: middle;\n",
       "    }\n",
       "\n",
       "    .dataframe tbody tr th {\n",
       "        vertical-align: top;\n",
       "    }\n",
       "\n",
       "    .dataframe thead th {\n",
       "        text-align: right;\n",
       "    }\n",
       "</style>\n",
       "<table border=\"1\" class=\"dataframe\">\n",
       "  <thead>\n",
       "    <tr style=\"text-align: right;\">\n",
       "      <th></th>\n",
       "      <th>Agency Name</th>\n",
       "      <th>Arrestee Age (group)</th>\n",
       "      <th>Arrestee Gender</th>\n",
       "      <th>Arrestee Race</th>\n",
       "      <th>County</th>\n",
       "      <th>Date</th>\n",
       "      <th>NIBRS Crime Against</th>\n",
       "      <th>NIBRS Crime Description</th>\n",
       "      <th>NIBRS Report Title</th>\n",
       "      <th>Distinct Arrest Offenses</th>\n",
       "    </tr>\n",
       "  </thead>\n",
       "  <tbody>\n",
       "    <tr>\n",
       "      <th>0</th>\n",
       "      <td>Beaverton PD MIP</td>\n",
       "      <td>0-10</td>\n",
       "      <td>Male</td>\n",
       "      <td>Black or African American</td>\n",
       "      <td>Washington</td>\n",
       "      <td>10/14/2021</td>\n",
       "      <td>Person</td>\n",
       "      <td>Simple Assault</td>\n",
       "      <td>Simple Assault</td>\n",
       "      <td>1</td>\n",
       "    </tr>\n",
       "    <tr>\n",
       "      <th>1</th>\n",
       "      <td>Bend PD MIP</td>\n",
       "      <td>0-10</td>\n",
       "      <td>Female</td>\n",
       "      <td>Unknown</td>\n",
       "      <td>Deschutes</td>\n",
       "      <td>8/4/2020</td>\n",
       "      <td>Other</td>\n",
       "      <td>Oregon Specific Crime (ONIBRS)</td>\n",
       "      <td>Part 3</td>\n",
       "      <td>1</td>\n",
       "    </tr>\n",
       "    <tr>\n",
       "      <th>2</th>\n",
       "      <td>Bend PD MIP</td>\n",
       "      <td>0-10</td>\n",
       "      <td>Female</td>\n",
       "      <td>White</td>\n",
       "      <td>Deschutes</td>\n",
       "      <td>1/20/2023</td>\n",
       "      <td>Other</td>\n",
       "      <td>Oregon Specific Crime (ONIBRS)</td>\n",
       "      <td>Part 3</td>\n",
       "      <td>1</td>\n",
       "    </tr>\n",
       "    <tr>\n",
       "      <th>3</th>\n",
       "      <td>Bend PD MIP</td>\n",
       "      <td>0-10</td>\n",
       "      <td>Female</td>\n",
       "      <td>White</td>\n",
       "      <td>Deschutes</td>\n",
       "      <td>1/20/2023</td>\n",
       "      <td>Person</td>\n",
       "      <td>Simple Assault</td>\n",
       "      <td>Simple Assault</td>\n",
       "      <td>1</td>\n",
       "    </tr>\n",
       "    <tr>\n",
       "      <th>4</th>\n",
       "      <td>Bend PD MIP</td>\n",
       "      <td>0-10</td>\n",
       "      <td>Female</td>\n",
       "      <td>White</td>\n",
       "      <td>Deschutes</td>\n",
       "      <td>1/20/2023</td>\n",
       "      <td>Property</td>\n",
       "      <td>Destruction/Damage/Vandalisim of Property</td>\n",
       "      <td>Vandalism</td>\n",
       "      <td>1</td>\n",
       "    </tr>\n",
       "  </tbody>\n",
       "</table>\n",
       "</div>"
      ],
      "text/plain": [
       "        Agency Name Arrestee Age (group) Arrestee Gender  \\\n",
       "0  Beaverton PD MIP                 0-10            Male   \n",
       "1       Bend PD MIP                 0-10          Female   \n",
       "2       Bend PD MIP                 0-10          Female   \n",
       "3       Bend PD MIP                 0-10          Female   \n",
       "4       Bend PD MIP                 0-10          Female   \n",
       "\n",
       "               Arrestee Race      County        Date NIBRS Crime Against  \\\n",
       "0  Black or African American  Washington  10/14/2021              Person   \n",
       "1                    Unknown   Deschutes    8/4/2020               Other   \n",
       "2                      White   Deschutes   1/20/2023               Other   \n",
       "3                      White   Deschutes   1/20/2023              Person   \n",
       "4                      White   Deschutes   1/20/2023            Property   \n",
       "\n",
       "                     NIBRS Crime Description NIBRS Report Title  \\\n",
       "0                             Simple Assault     Simple Assault   \n",
       "1             Oregon Specific Crime (ONIBRS)             Part 3   \n",
       "2             Oregon Specific Crime (ONIBRS)             Part 3   \n",
       "3                             Simple Assault     Simple Assault   \n",
       "4  Destruction/Damage/Vandalisim of Property          Vandalism   \n",
       "\n",
       "   Distinct Arrest Offenses  \n",
       "0                         1  \n",
       "1                         1  \n",
       "2                         1  \n",
       "3                         1  \n",
       "4                         1  "
      ]
     },
     "execution_count": 20,
     "metadata": {},
     "output_type": "execute_result"
    }
   ],
   "source": [
    "arrests.head()"
   ]
  },
  {
   "cell_type": "code",
   "execution_count": 24,
   "metadata": {},
   "outputs": [],
   "source": [
    "arrests.Date = pd.to_datetime(arrests.Date, format='%m/%d/%Y').dt.date"
   ]
  },
  {
   "cell_type": "code",
   "execution_count": 26,
   "metadata": {},
   "outputs": [
    {
     "data": {
      "text/plain": [
       "Index(['Agency Name', 'Arrestee Age (group)', 'Arrestee Gender',\n",
       "       'Arrestee Race', 'County', 'Date', 'NIBRS Crime Against',\n",
       "       'NIBRS Crime Description', 'NIBRS Report Title',\n",
       "       'Distinct Arrest Offenses'],\n",
       "      dtype='object')"
      ]
     },
     "execution_count": 26,
     "metadata": {},
     "output_type": "execute_result"
    }
   ],
   "source": [
    "arrests.columns"
   ]
  },
  {
   "cell_type": "code",
   "execution_count": 21,
   "metadata": {},
   "outputs": [
    {
     "data": {
      "text/html": [
       "<div>\n",
       "<style scoped>\n",
       "    .dataframe tbody tr th:only-of-type {\n",
       "        vertical-align: middle;\n",
       "    }\n",
       "\n",
       "    .dataframe tbody tr th {\n",
       "        vertical-align: top;\n",
       "    }\n",
       "\n",
       "    .dataframe thead th {\n",
       "        text-align: right;\n",
       "    }\n",
       "</style>\n",
       "<table border=\"1\" class=\"dataframe\">\n",
       "  <thead>\n",
       "    <tr style=\"text-align: right;\">\n",
       "      <th></th>\n",
       "      <th>Agency Name</th>\n",
       "      <th>County</th>\n",
       "      <th>IncidentDate</th>\n",
       "      <th>LEOKA Assignment Type (NIBRS)</th>\n",
       "      <th>LEOKA Circumstance</th>\n",
       "      <th>NIBRS Crime Description</th>\n",
       "      <th>NIBRS Report Title</th>\n",
       "      <th>Victim Age (group)</th>\n",
       "      <th>Victim Gender</th>\n",
       "      <th>Victim Race</th>\n",
       "      <th>Distinct Offense Victims</th>\n",
       "    </tr>\n",
       "  </thead>\n",
       "  <tbody>\n",
       "    <tr>\n",
       "      <th>0</th>\n",
       "      <td>Clackamas SO</td>\n",
       "      <td>Clackamas</td>\n",
       "      <td>6/10/2023</td>\n",
       "      <td>One Man Vehicle - Alone</td>\n",
       "      <td>Robberies in Progress/Pursuing Robbery Suspects</td>\n",
       "      <td>Simple Assault</td>\n",
       "      <td>Simple Assault</td>\n",
       "      <td>20</td>\n",
       "      <td>Female</td>\n",
       "      <td>White</td>\n",
       "      <td>1</td>\n",
       "    </tr>\n",
       "    <tr>\n",
       "      <th>1</th>\n",
       "      <td>Gresham PD MIP</td>\n",
       "      <td>Multnomah</td>\n",
       "      <td>10/24/2021</td>\n",
       "      <td>Other - Assisted</td>\n",
       "      <td>All Other</td>\n",
       "      <td>Aggravated Assault</td>\n",
       "      <td>Aggravated Assault</td>\n",
       "      <td>20</td>\n",
       "      <td>Male</td>\n",
       "      <td>Unknown</td>\n",
       "      <td>1</td>\n",
       "    </tr>\n",
       "    <tr>\n",
       "      <th>2</th>\n",
       "      <td>Portland Police Bureau MIP</td>\n",
       "      <td>Multnomah</td>\n",
       "      <td>4/23/2021</td>\n",
       "      <td>Two Man Vehicle</td>\n",
       "      <td>Attempting Other Arrests</td>\n",
       "      <td>Aggravated Assault</td>\n",
       "      <td>Aggravated Assault</td>\n",
       "      <td>20</td>\n",
       "      <td>Female</td>\n",
       "      <td>White</td>\n",
       "      <td>1</td>\n",
       "    </tr>\n",
       "    <tr>\n",
       "      <th>3</th>\n",
       "      <td>Astoria PD</td>\n",
       "      <td>Clatsop</td>\n",
       "      <td>4/1/2023</td>\n",
       "      <td>One Man Vehicle - Alone</td>\n",
       "      <td>Attempting Other Arrests</td>\n",
       "      <td>Aggravated Assault</td>\n",
       "      <td>Aggravated Assault</td>\n",
       "      <td>21</td>\n",
       "      <td>Male</td>\n",
       "      <td>White</td>\n",
       "      <td>1</td>\n",
       "    </tr>\n",
       "    <tr>\n",
       "      <th>4</th>\n",
       "      <td>Astoria PD</td>\n",
       "      <td>Clatsop</td>\n",
       "      <td>2/18/2023</td>\n",
       "      <td>One Man Vehicle - Alone</td>\n",
       "      <td>Traffic Pursuit and Stops</td>\n",
       "      <td>Simple Assault</td>\n",
       "      <td>Simple Assault</td>\n",
       "      <td>21</td>\n",
       "      <td>Male</td>\n",
       "      <td>White</td>\n",
       "      <td>1</td>\n",
       "    </tr>\n",
       "  </tbody>\n",
       "</table>\n",
       "</div>"
      ],
      "text/plain": [
       "                  Agency Name     County IncidentDate  \\\n",
       "0                Clackamas SO  Clackamas    6/10/2023   \n",
       "1              Gresham PD MIP  Multnomah   10/24/2021   \n",
       "2  Portland Police Bureau MIP  Multnomah    4/23/2021   \n",
       "3                  Astoria PD    Clatsop     4/1/2023   \n",
       "4                  Astoria PD    Clatsop    2/18/2023   \n",
       "\n",
       "  LEOKA Assignment Type (NIBRS)  \\\n",
       "0       One Man Vehicle - Alone   \n",
       "1              Other - Assisted   \n",
       "2               Two Man Vehicle   \n",
       "3       One Man Vehicle - Alone   \n",
       "4       One Man Vehicle - Alone   \n",
       "\n",
       "                                LEOKA Circumstance NIBRS Crime Description  \\\n",
       "0  Robberies in Progress/Pursuing Robbery Suspects          Simple Assault   \n",
       "1                                        All Other      Aggravated Assault   \n",
       "2                         Attempting Other Arrests      Aggravated Assault   \n",
       "3                         Attempting Other Arrests      Aggravated Assault   \n",
       "4                        Traffic Pursuit and Stops          Simple Assault   \n",
       "\n",
       "   NIBRS Report Title Victim Age (group) Victim Gender Victim Race  \\\n",
       "0      Simple Assault                 20        Female       White   \n",
       "1  Aggravated Assault                 20          Male     Unknown   \n",
       "2  Aggravated Assault                 20        Female       White   \n",
       "3  Aggravated Assault                 21          Male       White   \n",
       "4      Simple Assault                 21          Male       White   \n",
       "\n",
       "   Distinct Offense Victims  \n",
       "0                         1  \n",
       "1                         1  \n",
       "2                         1  \n",
       "3                         1  \n",
       "4                         1  "
      ]
     },
     "execution_count": 21,
     "metadata": {},
     "output_type": "execute_result"
    }
   ],
   "source": [
    "leoka.head()"
   ]
  },
  {
   "cell_type": "code",
   "execution_count": 27,
   "metadata": {},
   "outputs": [
    {
     "data": {
      "text/plain": [
       "Index(['Agency Name', 'County', 'IncidentDate',\n",
       "       'LEOKA Assignment Type (NIBRS)', 'LEOKA Circumstance',\n",
       "       'NIBRS Crime Description', 'NIBRS Report Title', 'Victim Age (group)',\n",
       "       'Victim Gender', 'Victim Race', 'Distinct Offense Victims'],\n",
       "      dtype='object')"
      ]
     },
     "execution_count": 27,
     "metadata": {},
     "output_type": "execute_result"
    }
   ],
   "source": [
    "leoka.columns"
   ]
  },
  {
   "cell_type": "code",
   "execution_count": 22,
   "metadata": {},
   "outputs": [
    {
     "data": {
      "text/html": [
       "<div>\n",
       "<style scoped>\n",
       "    .dataframe tbody tr th:only-of-type {\n",
       "        vertical-align: middle;\n",
       "    }\n",
       "\n",
       "    .dataframe tbody tr th {\n",
       "        vertical-align: top;\n",
       "    }\n",
       "\n",
       "    .dataframe thead th {\n",
       "        text-align: right;\n",
       "    }\n",
       "</style>\n",
       "<table border=\"1\" class=\"dataframe\">\n",
       "  <thead>\n",
       "    <tr style=\"text-align: right;\">\n",
       "      <th></th>\n",
       "      <th>Agency Name</th>\n",
       "      <th>County</th>\n",
       "      <th>IncidentDate</th>\n",
       "      <th>NIBRS Crime Against</th>\n",
       "      <th>NIBRS Crime Description</th>\n",
       "      <th>NIBRS Report Title</th>\n",
       "      <th>Victim Age (group)</th>\n",
       "      <th>Victim Gender</th>\n",
       "      <th>Victim Race</th>\n",
       "      <th>VictimType</th>\n",
       "      <th>Distinct Offense Victims</th>\n",
       "    </tr>\n",
       "  </thead>\n",
       "  <tbody>\n",
       "    <tr>\n",
       "      <th>0</th>\n",
       "      <td>Marion SO</td>\n",
       "      <td>Marion</td>\n",
       "      <td>1/2/2020</td>\n",
       "      <td>Other</td>\n",
       "      <td>OUCR Only Crime</td>\n",
       "      <td>Part 3</td>\n",
       "      <td>NaN</td>\n",
       "      <td>NaN</td>\n",
       "      <td>NaN</td>\n",
       "      <td>NaN</td>\n",
       "      <td>0</td>\n",
       "    </tr>\n",
       "    <tr>\n",
       "      <th>1</th>\n",
       "      <td>Marion SO</td>\n",
       "      <td>Marion</td>\n",
       "      <td>1/3/2020</td>\n",
       "      <td>Other</td>\n",
       "      <td>OUCR Only Crime</td>\n",
       "      <td>Part 3</td>\n",
       "      <td>NaN</td>\n",
       "      <td>NaN</td>\n",
       "      <td>NaN</td>\n",
       "      <td>NaN</td>\n",
       "      <td>0</td>\n",
       "    </tr>\n",
       "    <tr>\n",
       "      <th>2</th>\n",
       "      <td>Marion SO</td>\n",
       "      <td>Marion</td>\n",
       "      <td>1/8/2020</td>\n",
       "      <td>Other</td>\n",
       "      <td>OUCR Only Crime</td>\n",
       "      <td>Part 3</td>\n",
       "      <td>NaN</td>\n",
       "      <td>NaN</td>\n",
       "      <td>NaN</td>\n",
       "      <td>NaN</td>\n",
       "      <td>0</td>\n",
       "    </tr>\n",
       "    <tr>\n",
       "      <th>3</th>\n",
       "      <td>Marion SO</td>\n",
       "      <td>Marion</td>\n",
       "      <td>1/10/2020</td>\n",
       "      <td>Other</td>\n",
       "      <td>OUCR Only Crime</td>\n",
       "      <td>Part 3</td>\n",
       "      <td>NaN</td>\n",
       "      <td>NaN</td>\n",
       "      <td>NaN</td>\n",
       "      <td>NaN</td>\n",
       "      <td>0</td>\n",
       "    </tr>\n",
       "    <tr>\n",
       "      <th>4</th>\n",
       "      <td>Marion SO</td>\n",
       "      <td>Marion</td>\n",
       "      <td>1/24/2020</td>\n",
       "      <td>Other</td>\n",
       "      <td>OUCR Only Crime</td>\n",
       "      <td>Part 3</td>\n",
       "      <td>NaN</td>\n",
       "      <td>NaN</td>\n",
       "      <td>NaN</td>\n",
       "      <td>NaN</td>\n",
       "      <td>0</td>\n",
       "    </tr>\n",
       "  </tbody>\n",
       "</table>\n",
       "</div>"
      ],
      "text/plain": [
       "  Agency Name  County IncidentDate NIBRS Crime Against  \\\n",
       "0   Marion SO  Marion     1/2/2020               Other   \n",
       "1   Marion SO  Marion     1/3/2020               Other   \n",
       "2   Marion SO  Marion     1/8/2020               Other   \n",
       "3   Marion SO  Marion    1/10/2020               Other   \n",
       "4   Marion SO  Marion    1/24/2020               Other   \n",
       "\n",
       "  NIBRS Crime Description NIBRS Report Title Victim Age (group) Victim Gender  \\\n",
       "0         OUCR Only Crime             Part 3                NaN           NaN   \n",
       "1         OUCR Only Crime             Part 3                NaN           NaN   \n",
       "2         OUCR Only Crime             Part 3                NaN           NaN   \n",
       "3         OUCR Only Crime             Part 3                NaN           NaN   \n",
       "4         OUCR Only Crime             Part 3                NaN           NaN   \n",
       "\n",
       "  Victim Race VictimType  Distinct Offense Victims  \n",
       "0         NaN        NaN                         0  \n",
       "1         NaN        NaN                         0  \n",
       "2         NaN        NaN                         0  \n",
       "3         NaN        NaN                         0  \n",
       "4         NaN        NaN                         0  "
      ]
     },
     "execution_count": 22,
     "metadata": {},
     "output_type": "execute_result"
    }
   ],
   "source": [
    "victims.head()"
   ]
  },
  {
   "cell_type": "code",
   "execution_count": 23,
   "metadata": {},
   "outputs": [
    {
     "data": {
      "text/html": [
       "<div>\n",
       "<style scoped>\n",
       "    .dataframe tbody tr th:only-of-type {\n",
       "        vertical-align: middle;\n",
       "    }\n",
       "\n",
       "    .dataframe tbody tr th {\n",
       "        vertical-align: top;\n",
       "    }\n",
       "\n",
       "    .dataframe thead th {\n",
       "        text-align: right;\n",
       "    }\n",
       "</style>\n",
       "<table border=\"1\" class=\"dataframe\">\n",
       "  <thead>\n",
       "    <tr style=\"text-align: right;\">\n",
       "      <th></th>\n",
       "      <th>Agency Name</th>\n",
       "      <th>County</th>\n",
       "      <th>IncidentDate</th>\n",
       "      <th>NIBRS Crime Against</th>\n",
       "      <th>NIBRS Crime Description</th>\n",
       "      <th>NIBRS Report Title</th>\n",
       "      <th>Distinct Offenses</th>\n",
       "    </tr>\n",
       "  </thead>\n",
       "  <tbody>\n",
       "    <tr>\n",
       "      <th>0</th>\n",
       "      <td>Albany PD</td>\n",
       "      <td>Linn</td>\n",
       "      <td>1/1/2020</td>\n",
       "      <td>Other</td>\n",
       "      <td>Oregon Specific Crime (ONIBRS)</td>\n",
       "      <td>Part 3</td>\n",
       "      <td>1</td>\n",
       "    </tr>\n",
       "    <tr>\n",
       "      <th>1</th>\n",
       "      <td>Albany PD</td>\n",
       "      <td>Linn</td>\n",
       "      <td>1/2/2020</td>\n",
       "      <td>Other</td>\n",
       "      <td>Oregon Specific Crime (ONIBRS)</td>\n",
       "      <td>Part 3</td>\n",
       "      <td>5</td>\n",
       "    </tr>\n",
       "    <tr>\n",
       "      <th>2</th>\n",
       "      <td>Albany PD</td>\n",
       "      <td>Linn</td>\n",
       "      <td>1/3/2020</td>\n",
       "      <td>Other</td>\n",
       "      <td>Oregon Specific Crime (ONIBRS)</td>\n",
       "      <td>Part 3</td>\n",
       "      <td>1</td>\n",
       "    </tr>\n",
       "    <tr>\n",
       "      <th>3</th>\n",
       "      <td>Albany PD</td>\n",
       "      <td>Linn</td>\n",
       "      <td>1/4/2020</td>\n",
       "      <td>Other</td>\n",
       "      <td>Oregon Specific Crime (ONIBRS)</td>\n",
       "      <td>Part 3</td>\n",
       "      <td>3</td>\n",
       "    </tr>\n",
       "    <tr>\n",
       "      <th>4</th>\n",
       "      <td>Albany PD</td>\n",
       "      <td>Linn</td>\n",
       "      <td>1/5/2020</td>\n",
       "      <td>Other</td>\n",
       "      <td>Oregon Specific Crime (ONIBRS)</td>\n",
       "      <td>Part 3</td>\n",
       "      <td>5</td>\n",
       "    </tr>\n",
       "  </tbody>\n",
       "</table>\n",
       "</div>"
      ],
      "text/plain": [
       "  Agency Name County IncidentDate NIBRS Crime Against  \\\n",
       "0   Albany PD   Linn     1/1/2020               Other   \n",
       "1   Albany PD   Linn     1/2/2020               Other   \n",
       "2   Albany PD   Linn     1/3/2020               Other   \n",
       "3   Albany PD   Linn     1/4/2020               Other   \n",
       "4   Albany PD   Linn     1/5/2020               Other   \n",
       "\n",
       "          NIBRS Crime Description NIBRS Report Title  Distinct Offenses  \n",
       "0  Oregon Specific Crime (ONIBRS)             Part 3                  1  \n",
       "1  Oregon Specific Crime (ONIBRS)             Part 3                  5  \n",
       "2  Oregon Specific Crime (ONIBRS)             Part 3                  1  \n",
       "3  Oregon Specific Crime (ONIBRS)             Part 3                  3  \n",
       "4  Oregon Specific Crime (ONIBRS)             Part 3                  5  "
      ]
     },
     "execution_count": 23,
     "metadata": {},
     "output_type": "execute_result"
    }
   ],
   "source": [
    "offenses.head()"
   ]
  },
  {
   "cell_type": "code",
   "execution_count": 19,
   "metadata": {},
   "outputs": [],
   "source": [
    "year = datetime.datetime.now().year\n",
    "month = datetime.datetime.now().month"
   ]
  },
  {
   "cell_type": "code",
   "execution_count": 20,
   "metadata": {},
   "outputs": [
    {
     "name": "stdout",
     "output_type": "stream",
     "text": [
      "2024 4\n"
     ]
    }
   ],
   "source": [
    "print(year, month)"
   ]
  },
  {
   "cell_type": "code",
   "execution_count": 16,
   "metadata": {},
   "outputs": [
    {
     "data": {
      "text/plain": [
       "False"
      ]
     },
     "execution_count": 16,
     "metadata": {},
     "output_type": "execute_result"
    }
   ],
   "source": [
    "(df_all.OffenseCount == 0).any()"
   ]
  },
  {
   "cell_type": "code",
   "execution_count": 24,
   "metadata": {},
   "outputs": [
    {
     "data": {
      "text/plain": [
       "Timestamp('2015-05-01 00:00:00')"
      ]
     },
     "execution_count": 24,
     "metadata": {},
     "output_type": "execute_result"
    }
   ],
   "source": [
    "df_all.ReportDate.min()"
   ]
  },
  {
   "cell_type": "code",
   "execution_count": 25,
   "metadata": {},
   "outputs": [
    {
     "data": {
      "text/plain": [
       "Timestamp('1950-04-25 00:00:00')"
      ]
     },
     "execution_count": 25,
     "metadata": {},
     "output_type": "execute_result"
    }
   ],
   "source": [
    "df_all.OccurDate.min()"
   ]
  },
  {
   "cell_type": "markdown",
   "metadata": {},
   "source": [
    "### Load data from GCS"
   ]
  },
  {
   "cell_type": "code",
   "execution_count": null,
   "metadata": {},
   "outputs": [],
   "source": [
    "leoka.IncidentDate = pd.to_datetime(leoka.IncidentDate, format='%m/%d/%Y').dt.date\n",
    "victims.IncidentDate = pd.to_datetime(victims.IncidentDate, format='%m/%d/%Y').dt.date\n",
    "offenses.IncidentDate = pd.to_datetime(offenses.IncidentDate, format='%m/%d/%Y').dt.date\n",
    "\n",
    "data.Date = pd.to_datetime(arrests.Date, format='%m/%d/%Y').dt.date\n",
    "\n",
    "\n",
    "urls = ['https://www.oregon.gov/osp/Docs/Open-Data/OpenData-Offenses-All.csv',\n",
    "            'https://www.oregon.gov/osp/Docs/Open-Data/OpenData-Arrests-All.csv',\n",
    "            'https://www.oregon.gov/osp/Docs/Open-Data/OpenData-LEOKA-All.csv',\n",
    "            'https://www.oregon.gov/osp/Docs/Open-Data/OpenData-Victims-All.csv']"
   ]
  }
 ],
 "metadata": {
  "kernelspec": {
   "display_name": "de_env",
   "language": "python",
   "name": "python3"
  },
  "language_info": {
   "codemirror_mode": {
    "name": "ipython",
    "version": 3
   },
   "file_extension": ".py",
   "mimetype": "text/x-python",
   "name": "python",
   "nbconvert_exporter": "python",
   "pygments_lexer": "ipython3",
   "version": "3.12.1"
  }
 },
 "nbformat": 4,
 "nbformat_minor": 2
}
